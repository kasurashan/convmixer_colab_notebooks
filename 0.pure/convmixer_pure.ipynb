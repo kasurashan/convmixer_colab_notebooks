{
  "nbformat": 4,
  "nbformat_minor": 0,
  "metadata": {
    "colab": {
      "provenance": [],
      "collapsed_sections": []
    },
    "kernelspec": {
      "name": "python3",
      "display_name": "Python 3"
    },
    "language_info": {
      "name": "python"
    },
    "accelerator": "GPU",
    "gpuClass": "standard",
    "widgets": {
      "application/vnd.jupyter.widget-state+json": {
        "5ab06d5d57c243b2a2ffb95e74b78fcf": {
          "model_module": "@jupyter-widgets/controls",
          "model_name": "HBoxModel",
          "model_module_version": "1.5.0",
          "state": {
            "_dom_classes": [],
            "_model_module": "@jupyter-widgets/controls",
            "_model_module_version": "1.5.0",
            "_model_name": "HBoxModel",
            "_view_count": null,
            "_view_module": "@jupyter-widgets/controls",
            "_view_module_version": "1.5.0",
            "_view_name": "HBoxView",
            "box_style": "",
            "children": [
              "IPY_MODEL_5abcd14805a24b779403ff9e712cdc35",
              "IPY_MODEL_c1c2c9001c134f09b8d96b70b22b55d0",
              "IPY_MODEL_e0a2553b1ceb42bfb7580101a291beeb"
            ],
            "layout": "IPY_MODEL_9d8dc97a37c14d2b955c07682a986a9a"
          }
        },
        "5abcd14805a24b779403ff9e712cdc35": {
          "model_module": "@jupyter-widgets/controls",
          "model_name": "HTMLModel",
          "model_module_version": "1.5.0",
          "state": {
            "_dom_classes": [],
            "_model_module": "@jupyter-widgets/controls",
            "_model_module_version": "1.5.0",
            "_model_name": "HTMLModel",
            "_view_count": null,
            "_view_module": "@jupyter-widgets/controls",
            "_view_module_version": "1.5.0",
            "_view_name": "HTMLView",
            "description": "",
            "description_tooltip": null,
            "layout": "IPY_MODEL_241dee14c7d34d0c8cdf0fe3fe3be383",
            "placeholder": "​",
            "style": "IPY_MODEL_108e2d284a2e44ba9916194bd9fadb56",
            "value": "100%"
          }
        },
        "c1c2c9001c134f09b8d96b70b22b55d0": {
          "model_module": "@jupyter-widgets/controls",
          "model_name": "FloatProgressModel",
          "model_module_version": "1.5.0",
          "state": {
            "_dom_classes": [],
            "_model_module": "@jupyter-widgets/controls",
            "_model_module_version": "1.5.0",
            "_model_name": "FloatProgressModel",
            "_view_count": null,
            "_view_module": "@jupyter-widgets/controls",
            "_view_module_version": "1.5.0",
            "_view_name": "ProgressView",
            "bar_style": "success",
            "description": "",
            "description_tooltip": null,
            "layout": "IPY_MODEL_26255147e8ff4d06b5844da1f52e27f0",
            "max": 170498071,
            "min": 0,
            "orientation": "horizontal",
            "style": "IPY_MODEL_3facee46fe5544229abea9cfe71a8dc3",
            "value": 170498071
          }
        },
        "e0a2553b1ceb42bfb7580101a291beeb": {
          "model_module": "@jupyter-widgets/controls",
          "model_name": "HTMLModel",
          "model_module_version": "1.5.0",
          "state": {
            "_dom_classes": [],
            "_model_module": "@jupyter-widgets/controls",
            "_model_module_version": "1.5.0",
            "_model_name": "HTMLModel",
            "_view_count": null,
            "_view_module": "@jupyter-widgets/controls",
            "_view_module_version": "1.5.0",
            "_view_name": "HTMLView",
            "description": "",
            "description_tooltip": null,
            "layout": "IPY_MODEL_f39d965a30894053a2cd613e18c58b84",
            "placeholder": "​",
            "style": "IPY_MODEL_a17e954f54af4228bf8a81d6fd5b1e55",
            "value": " 170498071/170498071 [00:13&lt;00:00, 13894630.56it/s]"
          }
        },
        "9d8dc97a37c14d2b955c07682a986a9a": {
          "model_module": "@jupyter-widgets/base",
          "model_name": "LayoutModel",
          "model_module_version": "1.2.0",
          "state": {
            "_model_module": "@jupyter-widgets/base",
            "_model_module_version": "1.2.0",
            "_model_name": "LayoutModel",
            "_view_count": null,
            "_view_module": "@jupyter-widgets/base",
            "_view_module_version": "1.2.0",
            "_view_name": "LayoutView",
            "align_content": null,
            "align_items": null,
            "align_self": null,
            "border": null,
            "bottom": null,
            "display": null,
            "flex": null,
            "flex_flow": null,
            "grid_area": null,
            "grid_auto_columns": null,
            "grid_auto_flow": null,
            "grid_auto_rows": null,
            "grid_column": null,
            "grid_gap": null,
            "grid_row": null,
            "grid_template_areas": null,
            "grid_template_columns": null,
            "grid_template_rows": null,
            "height": null,
            "justify_content": null,
            "justify_items": null,
            "left": null,
            "margin": null,
            "max_height": null,
            "max_width": null,
            "min_height": null,
            "min_width": null,
            "object_fit": null,
            "object_position": null,
            "order": null,
            "overflow": null,
            "overflow_x": null,
            "overflow_y": null,
            "padding": null,
            "right": null,
            "top": null,
            "visibility": null,
            "width": null
          }
        },
        "241dee14c7d34d0c8cdf0fe3fe3be383": {
          "model_module": "@jupyter-widgets/base",
          "model_name": "LayoutModel",
          "model_module_version": "1.2.0",
          "state": {
            "_model_module": "@jupyter-widgets/base",
            "_model_module_version": "1.2.0",
            "_model_name": "LayoutModel",
            "_view_count": null,
            "_view_module": "@jupyter-widgets/base",
            "_view_module_version": "1.2.0",
            "_view_name": "LayoutView",
            "align_content": null,
            "align_items": null,
            "align_self": null,
            "border": null,
            "bottom": null,
            "display": null,
            "flex": null,
            "flex_flow": null,
            "grid_area": null,
            "grid_auto_columns": null,
            "grid_auto_flow": null,
            "grid_auto_rows": null,
            "grid_column": null,
            "grid_gap": null,
            "grid_row": null,
            "grid_template_areas": null,
            "grid_template_columns": null,
            "grid_template_rows": null,
            "height": null,
            "justify_content": null,
            "justify_items": null,
            "left": null,
            "margin": null,
            "max_height": null,
            "max_width": null,
            "min_height": null,
            "min_width": null,
            "object_fit": null,
            "object_position": null,
            "order": null,
            "overflow": null,
            "overflow_x": null,
            "overflow_y": null,
            "padding": null,
            "right": null,
            "top": null,
            "visibility": null,
            "width": null
          }
        },
        "108e2d284a2e44ba9916194bd9fadb56": {
          "model_module": "@jupyter-widgets/controls",
          "model_name": "DescriptionStyleModel",
          "model_module_version": "1.5.0",
          "state": {
            "_model_module": "@jupyter-widgets/controls",
            "_model_module_version": "1.5.0",
            "_model_name": "DescriptionStyleModel",
            "_view_count": null,
            "_view_module": "@jupyter-widgets/base",
            "_view_module_version": "1.2.0",
            "_view_name": "StyleView",
            "description_width": ""
          }
        },
        "26255147e8ff4d06b5844da1f52e27f0": {
          "model_module": "@jupyter-widgets/base",
          "model_name": "LayoutModel",
          "model_module_version": "1.2.0",
          "state": {
            "_model_module": "@jupyter-widgets/base",
            "_model_module_version": "1.2.0",
            "_model_name": "LayoutModel",
            "_view_count": null,
            "_view_module": "@jupyter-widgets/base",
            "_view_module_version": "1.2.0",
            "_view_name": "LayoutView",
            "align_content": null,
            "align_items": null,
            "align_self": null,
            "border": null,
            "bottom": null,
            "display": null,
            "flex": null,
            "flex_flow": null,
            "grid_area": null,
            "grid_auto_columns": null,
            "grid_auto_flow": null,
            "grid_auto_rows": null,
            "grid_column": null,
            "grid_gap": null,
            "grid_row": null,
            "grid_template_areas": null,
            "grid_template_columns": null,
            "grid_template_rows": null,
            "height": null,
            "justify_content": null,
            "justify_items": null,
            "left": null,
            "margin": null,
            "max_height": null,
            "max_width": null,
            "min_height": null,
            "min_width": null,
            "object_fit": null,
            "object_position": null,
            "order": null,
            "overflow": null,
            "overflow_x": null,
            "overflow_y": null,
            "padding": null,
            "right": null,
            "top": null,
            "visibility": null,
            "width": null
          }
        },
        "3facee46fe5544229abea9cfe71a8dc3": {
          "model_module": "@jupyter-widgets/controls",
          "model_name": "ProgressStyleModel",
          "model_module_version": "1.5.0",
          "state": {
            "_model_module": "@jupyter-widgets/controls",
            "_model_module_version": "1.5.0",
            "_model_name": "ProgressStyleModel",
            "_view_count": null,
            "_view_module": "@jupyter-widgets/base",
            "_view_module_version": "1.2.0",
            "_view_name": "StyleView",
            "bar_color": null,
            "description_width": ""
          }
        },
        "f39d965a30894053a2cd613e18c58b84": {
          "model_module": "@jupyter-widgets/base",
          "model_name": "LayoutModel",
          "model_module_version": "1.2.0",
          "state": {
            "_model_module": "@jupyter-widgets/base",
            "_model_module_version": "1.2.0",
            "_model_name": "LayoutModel",
            "_view_count": null,
            "_view_module": "@jupyter-widgets/base",
            "_view_module_version": "1.2.0",
            "_view_name": "LayoutView",
            "align_content": null,
            "align_items": null,
            "align_self": null,
            "border": null,
            "bottom": null,
            "display": null,
            "flex": null,
            "flex_flow": null,
            "grid_area": null,
            "grid_auto_columns": null,
            "grid_auto_flow": null,
            "grid_auto_rows": null,
            "grid_column": null,
            "grid_gap": null,
            "grid_row": null,
            "grid_template_areas": null,
            "grid_template_columns": null,
            "grid_template_rows": null,
            "height": null,
            "justify_content": null,
            "justify_items": null,
            "left": null,
            "margin": null,
            "max_height": null,
            "max_width": null,
            "min_height": null,
            "min_width": null,
            "object_fit": null,
            "object_position": null,
            "order": null,
            "overflow": null,
            "overflow_x": null,
            "overflow_y": null,
            "padding": null,
            "right": null,
            "top": null,
            "visibility": null,
            "width": null
          }
        },
        "a17e954f54af4228bf8a81d6fd5b1e55": {
          "model_module": "@jupyter-widgets/controls",
          "model_name": "DescriptionStyleModel",
          "model_module_version": "1.5.0",
          "state": {
            "_model_module": "@jupyter-widgets/controls",
            "_model_module_version": "1.5.0",
            "_model_name": "DescriptionStyleModel",
            "_view_count": null,
            "_view_module": "@jupyter-widgets/base",
            "_view_module_version": "1.2.0",
            "_view_name": "StyleView",
            "description_width": ""
          }
        }
      }
    }
  },
  "cells": [
    {
      "cell_type": "code",
      "execution_count": null,
      "metadata": {
        "id": "2l8WC0A01Jge"
      },
      "outputs": [],
      "source": [
        "import torch\n",
        "import torch.nn as nn\n",
        "import torch.optim as optim\n",
        "import torchvision\n",
        "import torchvision.transforms as transforms\n",
        "import numpy as np\n",
        "import time\n",
        "import argparse\n",
        "from tqdm import tqdm\n",
        "import matplotlib.pyplot as plt"
      ]
    },
    {
      "cell_type": "code",
      "source": [
        "args = argparse.Namespace(name = \"ConvMixer\", \n",
        "                          batch_size = 512,\n",
        "                          scale = 0.75,\n",
        "                          reprob = 0.25,\n",
        "                          ra_m = 8,\n",
        "                          ra_n = 1,\n",
        "                          jitter = 0.1,\n",
        "                          hdim = 256,\n",
        "                          depth = 8,\n",
        "                          psize = 2,\n",
        "                          conv_ks = 5,\n",
        "                          wd = 0.005,\n",
        "                          clip_norm = 'store_true',\n",
        "                          epochs = 50,\n",
        "                          lr_max = 0.05,\n",
        "                          workers = 2)"
      ],
      "metadata": {
        "id": "r-W5IvuS1OmN"
      },
      "execution_count": null,
      "outputs": []
    },
    {
      "cell_type": "code",
      "source": [
        "class Residual(nn.Module):\n",
        "    def __init__(self, fn):\n",
        "        super().__init__()\n",
        "        self.fn = fn\n",
        "\n",
        "    def forward(self, x):\n",
        "        return self.fn(x) + x"
      ],
      "metadata": {
        "id": "MJdcXkM11P9s"
      },
      "execution_count": null,
      "outputs": []
    },
    {
      "cell_type": "code",
      "source": [
        "def ConvMixer(dim, depth, kernel_size=5, patch_size=2, n_classes=10):\n",
        "    return nn.Sequential(\n",
        "        nn.Conv2d(3, dim, kernel_size=patch_size, stride=patch_size),\n",
        "        nn.GELU(),\n",
        "        nn.BatchNorm2d(dim),\n",
        "        *[nn.Sequential(\n",
        "                Residual(nn.Sequential(\n",
        "                    nn.Conv2d(dim, dim, kernel_size, groups=dim, padding=\"same\"),\n",
        "                    nn.GELU(),\n",
        "                    nn.BatchNorm2d(dim)\n",
        "                )),\n",
        "                nn.Conv2d(dim, dim, kernel_size=1),\n",
        "                nn.GELU(),\n",
        "                nn.BatchNorm2d(dim)\n",
        "        ) for i in range(depth)],\n",
        "        nn.AdaptiveAvgPool2d((1,1)),\n",
        "        nn.Flatten(),\n",
        "        nn.Linear(dim, n_classes)\n",
        "    )"
      ],
      "metadata": {
        "id": "IZy8g4_o1SQ0"
      },
      "execution_count": null,
      "outputs": []
    },
    {
      "cell_type": "code",
      "source": [
        "cifar10_mean = (0.4914, 0.4822, 0.4465)\n",
        "cifar10_std = (0.2471, 0.2435, 0.2616)"
      ],
      "metadata": {
        "id": "RUEurQXS1Tw6"
      },
      "execution_count": null,
      "outputs": []
    },
    {
      "cell_type": "code",
      "source": [
        "# augmentation 포함된 변환\n",
        "train_transform = transforms.Compose([\n",
        "    transforms.RandomResizedCrop(32, scale=(args.scale, 1.0), ratio=(1.0, 1.0)),\n",
        "    transforms.RandomHorizontalFlip(p=0.5),\n",
        "    transforms.RandAugment(num_ops=args.ra_n, magnitude=args.ra_m),\n",
        "    transforms.ColorJitter(args.jitter, args.jitter, args.jitter),\n",
        "    transforms.ToTensor(),\n",
        "    transforms.Normalize(cifar10_mean, cifar10_std),\n",
        "    transforms.RandomErasing(p=args.reprob)\n",
        "])\n",
        "\n",
        "test_transform = transforms.Compose([\n",
        "    transforms.ToTensor(),\n",
        "    transforms.Normalize(cifar10_mean, cifar10_std)\n",
        "])"
      ],
      "metadata": {
        "id": "ekFfSFFm1UaJ"
      },
      "execution_count": null,
      "outputs": []
    },
    {
      "cell_type": "code",
      "source": [
        "# augmentation 제외\n",
        "train_transform = transforms.Compose([\n",
        "    #transforms.RandomResizedCrop(32, scale=(args.scale, 1.0), ratio=(1.0, 1.0)),\n",
        "    #transforms.RandomHorizontalFlip(p=0.5),\n",
        "    #transforms.RandAugment(num_ops=args.ra_n, magnitude=args.ra_m),\n",
        "    #transforms.ColorJitter(args.jitter, args.jitter, args.jitter),\n",
        "    transforms.ToTensor(),\n",
        "    transforms.Normalize(cifar10_mean, cifar10_std)\n",
        "    #transforms.RandomErasing(p=args.reprob)\n",
        "])\n",
        "\n",
        "test_transform = transforms.Compose([\n",
        "    transforms.ToTensor(),\n",
        "    transforms.Normalize(cifar10_mean, cifar10_std)\n",
        "])"
      ],
      "metadata": {
        "id": "zsOIPewSSiI5"
      },
      "execution_count": null,
      "outputs": []
    },
    {
      "cell_type": "code",
      "source": [
        "trainset = torchvision.datasets.CIFAR10(root='./data', train=True,\n",
        "                                        download=True, transform=train_transform)\n",
        "trainloader = torch.utils.data.DataLoader(trainset, batch_size=args.batch_size,\n",
        "                                          shuffle=True, num_workers=args.workers)\n",
        "\n",
        "testset = torchvision.datasets.CIFAR10(root='./data', train=False,\n",
        "                                       download=True, transform=test_transform)\n",
        "testloader = torch.utils.data.DataLoader(testset, batch_size=args.batch_size,\n",
        "                                         shuffle=False, num_workers=args.workers)"
      ],
      "metadata": {
        "colab": {
          "base_uri": "https://localhost:8080/",
          "height": 104,
          "referenced_widgets": [
            "5ab06d5d57c243b2a2ffb95e74b78fcf",
            "5abcd14805a24b779403ff9e712cdc35",
            "c1c2c9001c134f09b8d96b70b22b55d0",
            "e0a2553b1ceb42bfb7580101a291beeb",
            "9d8dc97a37c14d2b955c07682a986a9a",
            "241dee14c7d34d0c8cdf0fe3fe3be383",
            "108e2d284a2e44ba9916194bd9fadb56",
            "26255147e8ff4d06b5844da1f52e27f0",
            "3facee46fe5544229abea9cfe71a8dc3",
            "f39d965a30894053a2cd613e18c58b84",
            "a17e954f54af4228bf8a81d6fd5b1e55"
          ]
        },
        "id": "Qli6e-PE1V7t",
        "outputId": "9b814826-a03f-43bc-dd9e-e726f7bf8e11"
      },
      "execution_count": null,
      "outputs": [
        {
          "output_type": "stream",
          "name": "stdout",
          "text": [
            "Downloading https://www.cs.toronto.edu/~kriz/cifar-10-python.tar.gz to ./data/cifar-10-python.tar.gz\n"
          ]
        },
        {
          "output_type": "display_data",
          "data": {
            "text/plain": [
              "  0%|          | 0/170498071 [00:00<?, ?it/s]"
            ],
            "application/vnd.jupyter.widget-view+json": {
              "version_major": 2,
              "version_minor": 0,
              "model_id": "5ab06d5d57c243b2a2ffb95e74b78fcf"
            }
          },
          "metadata": {}
        },
        {
          "output_type": "stream",
          "name": "stdout",
          "text": [
            "Extracting ./data/cifar-10-python.tar.gz to ./data\n",
            "Files already downloaded and verified\n"
          ]
        }
      ]
    },
    {
      "cell_type": "code",
      "source": [
        "model = ConvMixer(args.hdim, args.depth, patch_size=args.psize, kernel_size=args.conv_ks, n_classes=10)\n",
        "model = nn.DataParallel(model).cuda()"
      ],
      "metadata": {
        "id": "Y_LhjunM1XM0"
      },
      "execution_count": null,
      "outputs": []
    },
    {
      "cell_type": "code",
      "source": [
        "lr_schedule = lambda t: np.interp([t], [0, args.epochs*2//5, args.epochs*4//5, args.epochs], \n",
        "                                  [0, args.lr_max, args.lr_max/20.0, 0])[0]\n",
        "\n",
        "opt = optim.AdamW(model.parameters(), lr=args.lr_max, weight_decay=args.wd)\n",
        "criterion = nn.CrossEntropyLoss()\n",
        "scaler = torch.cuda.amp.GradScaler()"
      ],
      "metadata": {
        "id": "PaKVSHFU1Ytw"
      },
      "execution_count": null,
      "outputs": []
    },
    {
      "cell_type": "code",
      "source": [
        "print(lr_schedule(10))"
      ],
      "metadata": {
        "colab": {
          "base_uri": "https://localhost:8080/"
        },
        "id": "UJ57xhIDmYfE",
        "outputId": "f32ce6dc-9f64-490d-fc16-bbf825a63cf9"
      },
      "execution_count": null,
      "outputs": [
        {
          "output_type": "stream",
          "name": "stdout",
          "text": [
            "0.025\n"
          ]
        }
      ]
    },
    {
      "cell_type": "code",
      "source": [
        "train_loss_list = []\n",
        "test_loss_list = []\n",
        "\n",
        "train_acc_list = []\n",
        "test_acc_list = []\n",
        "\n",
        "lr_list = []\n",
        "time_list = []"
      ],
      "metadata": {
        "id": "lYcxJrfwGoVg"
      },
      "execution_count": null,
      "outputs": []
    },
    {
      "cell_type": "code",
      "source": [
        "# train & test\n",
        "\n",
        "for epoch in tqdm(range(args.epochs)):\n",
        "    start = time.time()\n",
        "    train_loss, train_acc, n = 0, 0, 0\n",
        "    test_loss = 0 ##################################\n",
        "\n",
        "    for i, (X, y) in enumerate(trainloader):\n",
        "        model.train()\n",
        "        X, y = X.cuda(), y.cuda()\n",
        "\n",
        "        lr = lr_schedule(epoch + (i + 1)/len(trainloader))\n",
        "        opt.param_groups[0].update(lr=lr)\n",
        "\n",
        "        opt.zero_grad()\n",
        "        with torch.cuda.amp.autocast():\n",
        "            output = model(X)\n",
        "            loss = criterion(output, y)\n",
        "\n",
        "        scaler.scale(loss).backward()\n",
        "        if args.clip_norm:\n",
        "            scaler.unscale_(opt)\n",
        "            nn.utils.clip_grad_norm_(model.parameters(), 1.0)\n",
        "        scaler.step(opt)\n",
        "        scaler.update()\n",
        "        \n",
        "        train_loss += loss.item() * y.size(0)\n",
        "        train_acc += (output.max(1)[1] == y).sum().item()\n",
        "        n += y.size(0)\n",
        "\n",
        "\n",
        "        \n",
        "    model.eval()\n",
        "    test_acc, m = 0, 0\n",
        "    with torch.no_grad():\n",
        "        for i, (X, y) in enumerate(testloader):\n",
        "            X, y = X.cuda(), y.cuda()\n",
        "            with torch.cuda.amp.autocast():\n",
        "                output = model(X)\n",
        "                test_loss_tmp = criterion(output, y) ###################\n",
        "\n",
        "\n",
        "            test_loss += test_loss_tmp.item() * y.size(0) ##############\n",
        "\n",
        "            test_acc += (output.max(1)[1] == y).sum().item()\n",
        "            m += y.size(0)\n",
        "\n",
        "\n",
        "    train_loss_list.append(train_loss)\n",
        "    test_loss_list.append(test_loss)\n",
        "    train_acc_list.append(train_acc/n)    \n",
        "    test_acc_list.append(test_acc/m)\n",
        "    lr_list.append(lr)\n",
        "    time_list.append(time.time() - start)\n",
        "\n",
        "    print(f'[{args.name}] Epoch: {epoch} | Train Acc: {train_acc/n:.4f}, Test Acc: {test_acc/m:.4f}, Time: {time.time() - start:.1f}, lr: {lr:.6f}')"
      ],
      "metadata": {
        "colab": {
          "base_uri": "https://localhost:8080/"
        },
        "id": "ag_QWarZ1eLM",
        "outputId": "783e5970-a57d-473f-fc63-6c2e6cd0433a"
      },
      "execution_count": null,
      "outputs": [
        {
          "output_type": "stream",
          "name": "stderr",
          "text": [
            "  2%|▏         | 1/50 [00:27<22:07, 27.10s/it]"
          ]
        },
        {
          "output_type": "stream",
          "name": "stdout",
          "text": [
            "[ConvMixer] Epoch: 0 | Train Acc: 0.4659, Test Acc: 0.5752, Time: 27.1, lr: 0.002500\n"
          ]
        },
        {
          "output_type": "stream",
          "name": "stderr",
          "text": [
            "\r  4%|▍         | 2/50 [00:48<18:45, 23.46s/it]"
          ]
        },
        {
          "output_type": "stream",
          "name": "stdout",
          "text": [
            "[ConvMixer] Epoch: 1 | Train Acc: 0.6802, Test Acc: 0.6732, Time: 20.9, lr: 0.005000\n"
          ]
        },
        {
          "output_type": "stream",
          "name": "stderr",
          "text": [
            "\r  6%|▌         | 3/50 [01:09<17:42, 22.61s/it]"
          ]
        },
        {
          "output_type": "stream",
          "name": "stdout",
          "text": [
            "[ConvMixer] Epoch: 2 | Train Acc: 0.7721, Test Acc: 0.7314, Time: 21.6, lr: 0.007500\n"
          ]
        },
        {
          "output_type": "stream",
          "name": "stderr",
          "text": [
            "\r  8%|▊         | 4/50 [01:31<17:06, 22.32s/it]"
          ]
        },
        {
          "output_type": "stream",
          "name": "stdout",
          "text": [
            "[ConvMixer] Epoch: 3 | Train Acc: 0.8178, Test Acc: 0.7720, Time: 21.9, lr: 0.010000\n"
          ]
        },
        {
          "output_type": "stream",
          "name": "stderr",
          "text": [
            "\r 10%|█         | 5/50 [01:53<16:34, 22.09s/it]"
          ]
        },
        {
          "output_type": "stream",
          "name": "stdout",
          "text": [
            "[ConvMixer] Epoch: 4 | Train Acc: 0.8437, Test Acc: 0.7737, Time: 21.7, lr: 0.012500\n"
          ]
        },
        {
          "output_type": "stream",
          "name": "stderr",
          "text": [
            "\r 12%|█▏        | 6/50 [02:14<16:03, 21.90s/it]"
          ]
        },
        {
          "output_type": "stream",
          "name": "stdout",
          "text": [
            "[ConvMixer] Epoch: 5 | Train Acc: 0.8604, Test Acc: 0.7428, Time: 21.5, lr: 0.015000\n"
          ]
        },
        {
          "output_type": "stream",
          "name": "stderr",
          "text": [
            "\r 14%|█▍        | 7/50 [02:36<15:36, 21.77s/it]"
          ]
        },
        {
          "output_type": "stream",
          "name": "stdout",
          "text": [
            "[ConvMixer] Epoch: 6 | Train Acc: 0.8768, Test Acc: 0.7987, Time: 21.5, lr: 0.017500\n"
          ]
        },
        {
          "output_type": "stream",
          "name": "stderr",
          "text": [
            "\r 16%|█▌        | 8/50 [02:57<15:13, 21.74s/it]"
          ]
        },
        {
          "output_type": "stream",
          "name": "stdout",
          "text": [
            "[ConvMixer] Epoch: 7 | Train Acc: 0.8892, Test Acc: 0.8050, Time: 21.7, lr: 0.020000\n"
          ]
        },
        {
          "output_type": "stream",
          "name": "stderr",
          "text": [
            "\r 18%|█▊        | 9/50 [03:20<15:00, 21.96s/it]"
          ]
        },
        {
          "output_type": "stream",
          "name": "stdout",
          "text": [
            "[ConvMixer] Epoch: 8 | Train Acc: 0.8956, Test Acc: 0.7774, Time: 22.4, lr: 0.022500\n"
          ]
        },
        {
          "output_type": "stream",
          "name": "stderr",
          "text": [
            "\r 20%|██        | 10/50 [03:41<14:31, 21.79s/it]"
          ]
        },
        {
          "output_type": "stream",
          "name": "stdout",
          "text": [
            "[ConvMixer] Epoch: 9 | Train Acc: 0.9040, Test Acc: 0.8148, Time: 21.4, lr: 0.025000\n"
          ]
        },
        {
          "output_type": "stream",
          "name": "stderr",
          "text": [
            "\r 22%|██▏       | 11/50 [04:03<14:06, 21.70s/it]"
          ]
        },
        {
          "output_type": "stream",
          "name": "stdout",
          "text": [
            "[ConvMixer] Epoch: 10 | Train Acc: 0.9073, Test Acc: 0.8147, Time: 21.5, lr: 0.027500\n"
          ]
        },
        {
          "output_type": "stream",
          "name": "stderr",
          "text": [
            "\r 24%|██▍       | 12/50 [04:24<13:42, 21.65s/it]"
          ]
        },
        {
          "output_type": "stream",
          "name": "stdout",
          "text": [
            "[ConvMixer] Epoch: 11 | Train Acc: 0.9142, Test Acc: 0.7264, Time: 21.5, lr: 0.030000\n"
          ]
        },
        {
          "output_type": "stream",
          "name": "stderr",
          "text": [
            "\r 26%|██▌       | 13/50 [04:46<13:21, 21.65s/it]"
          ]
        },
        {
          "output_type": "stream",
          "name": "stdout",
          "text": [
            "[ConvMixer] Epoch: 12 | Train Acc: 0.9179, Test Acc: 0.8196, Time: 21.6, lr: 0.032500\n"
          ]
        },
        {
          "output_type": "stream",
          "name": "stderr",
          "text": [
            "\r 28%|██▊       | 14/50 [05:07<12:57, 21.61s/it]"
          ]
        },
        {
          "output_type": "stream",
          "name": "stdout",
          "text": [
            "[ConvMixer] Epoch: 13 | Train Acc: 0.9236, Test Acc: 0.7944, Time: 21.5, lr: 0.035000\n"
          ]
        },
        {
          "output_type": "stream",
          "name": "stderr",
          "text": [
            "\r 30%|███       | 15/50 [05:29<12:35, 21.58s/it]"
          ]
        },
        {
          "output_type": "stream",
          "name": "stdout",
          "text": [
            "[ConvMixer] Epoch: 14 | Train Acc: 0.9219, Test Acc: 0.7499, Time: 21.5, lr: 0.037500\n"
          ]
        },
        {
          "output_type": "stream",
          "name": "stderr",
          "text": [
            "\r 32%|███▏      | 16/50 [05:51<12:13, 21.57s/it]"
          ]
        },
        {
          "output_type": "stream",
          "name": "stdout",
          "text": [
            "[ConvMixer] Epoch: 15 | Train Acc: 0.9265, Test Acc: 0.8167, Time: 21.6, lr: 0.040000\n"
          ]
        },
        {
          "output_type": "stream",
          "name": "stderr",
          "text": [
            "\r 34%|███▍      | 17/50 [06:12<11:51, 21.55s/it]"
          ]
        },
        {
          "output_type": "stream",
          "name": "stdout",
          "text": [
            "[ConvMixer] Epoch: 16 | Train Acc: 0.9310, Test Acc: 0.8128, Time: 21.5, lr: 0.042500\n"
          ]
        },
        {
          "output_type": "stream",
          "name": "stderr",
          "text": [
            "\r 36%|███▌      | 18/50 [06:34<11:30, 21.57s/it]"
          ]
        },
        {
          "output_type": "stream",
          "name": "stdout",
          "text": [
            "[ConvMixer] Epoch: 17 | Train Acc: 0.9328, Test Acc: 0.8127, Time: 21.6, lr: 0.045000\n"
          ]
        },
        {
          "output_type": "stream",
          "name": "stderr",
          "text": [
            "\r 38%|███▊      | 19/50 [06:55<11:07, 21.53s/it]"
          ]
        },
        {
          "output_type": "stream",
          "name": "stdout",
          "text": [
            "[ConvMixer] Epoch: 18 | Train Acc: 0.9303, Test Acc: 0.8069, Time: 21.4, lr: 0.047500\n"
          ]
        },
        {
          "output_type": "stream",
          "name": "stderr",
          "text": [
            "\r 40%|████      | 20/50 [07:17<10:51, 21.73s/it]"
          ]
        },
        {
          "output_type": "stream",
          "name": "stdout",
          "text": [
            "[ConvMixer] Epoch: 19 | Train Acc: 0.9311, Test Acc: 0.8280, Time: 22.2, lr: 0.050000\n"
          ]
        },
        {
          "output_type": "stream",
          "name": "stderr",
          "text": [
            "\r 42%|████▏     | 21/50 [07:39<10:27, 21.64s/it]"
          ]
        },
        {
          "output_type": "stream",
          "name": "stdout",
          "text": [
            "[ConvMixer] Epoch: 20 | Train Acc: 0.9415, Test Acc: 0.8221, Time: 21.4, lr: 0.047625\n"
          ]
        },
        {
          "output_type": "stream",
          "name": "stderr",
          "text": [
            "\r 44%|████▍     | 22/50 [08:00<10:04, 21.59s/it]"
          ]
        },
        {
          "output_type": "stream",
          "name": "stdout",
          "text": [
            "[ConvMixer] Epoch: 21 | Train Acc: 0.9528, Test Acc: 0.8223, Time: 21.5, lr: 0.045250\n"
          ]
        },
        {
          "output_type": "stream",
          "name": "stderr",
          "text": [
            "\r 46%|████▌     | 23/50 [08:22<09:41, 21.53s/it]"
          ]
        },
        {
          "output_type": "stream",
          "name": "stdout",
          "text": [
            "[ConvMixer] Epoch: 22 | Train Acc: 0.9584, Test Acc: 0.8432, Time: 21.4, lr: 0.042875\n"
          ]
        },
        {
          "output_type": "stream",
          "name": "stderr",
          "text": [
            "\r 48%|████▊     | 24/50 [08:43<09:19, 21.50s/it]"
          ]
        },
        {
          "output_type": "stream",
          "name": "stdout",
          "text": [
            "[ConvMixer] Epoch: 23 | Train Acc: 0.9612, Test Acc: 0.8227, Time: 21.4, lr: 0.040500\n"
          ]
        },
        {
          "output_type": "stream",
          "name": "stderr",
          "text": [
            "\r 50%|█████     | 25/50 [09:04<08:57, 21.49s/it]"
          ]
        },
        {
          "output_type": "stream",
          "name": "stdout",
          "text": [
            "[ConvMixer] Epoch: 24 | Train Acc: 0.9684, Test Acc: 0.8499, Time: 21.4, lr: 0.038125\n"
          ]
        },
        {
          "output_type": "stream",
          "name": "stderr",
          "text": [
            "\r 52%|█████▏    | 26/50 [09:26<08:35, 21.46s/it]"
          ]
        },
        {
          "output_type": "stream",
          "name": "stdout",
          "text": [
            "[ConvMixer] Epoch: 25 | Train Acc: 0.9764, Test Acc: 0.8362, Time: 21.4, lr: 0.035750\n"
          ]
        },
        {
          "output_type": "stream",
          "name": "stderr",
          "text": [
            "\r 54%|█████▍    | 27/50 [09:47<08:13, 21.47s/it]"
          ]
        },
        {
          "output_type": "stream",
          "name": "stdout",
          "text": [
            "[ConvMixer] Epoch: 26 | Train Acc: 0.9770, Test Acc: 0.8404, Time: 21.5, lr: 0.033375\n"
          ]
        },
        {
          "output_type": "stream",
          "name": "stderr",
          "text": [
            "\r 56%|█████▌    | 28/50 [10:09<07:52, 21.46s/it]"
          ]
        },
        {
          "output_type": "stream",
          "name": "stdout",
          "text": [
            "[ConvMixer] Epoch: 27 | Train Acc: 0.9769, Test Acc: 0.8336, Time: 21.4, lr: 0.031000\n"
          ]
        },
        {
          "output_type": "stream",
          "name": "stderr",
          "text": [
            "\r 58%|█████▊    | 29/50 [10:30<07:31, 21.48s/it]"
          ]
        },
        {
          "output_type": "stream",
          "name": "stdout",
          "text": [
            "[ConvMixer] Epoch: 28 | Train Acc: 0.9846, Test Acc: 0.8590, Time: 21.5, lr: 0.028625\n"
          ]
        },
        {
          "output_type": "stream",
          "name": "stderr",
          "text": [
            "\r 60%|██████    | 30/50 [10:52<07:09, 21.46s/it]"
          ]
        },
        {
          "output_type": "stream",
          "name": "stdout",
          "text": [
            "[ConvMixer] Epoch: 29 | Train Acc: 0.9870, Test Acc: 0.8546, Time: 21.4, lr: 0.026250\n"
          ]
        },
        {
          "output_type": "stream",
          "name": "stderr",
          "text": [
            "\r 62%|██████▏   | 31/50 [11:15<06:56, 21.90s/it]"
          ]
        },
        {
          "output_type": "stream",
          "name": "stdout",
          "text": [
            "[ConvMixer] Epoch: 30 | Train Acc: 0.9909, Test Acc: 0.8715, Time: 22.9, lr: 0.023875\n"
          ]
        },
        {
          "output_type": "stream",
          "name": "stderr",
          "text": [
            "\r 64%|██████▍   | 32/50 [11:36<06:31, 21.75s/it]"
          ]
        },
        {
          "output_type": "stream",
          "name": "stdout",
          "text": [
            "[ConvMixer] Epoch: 31 | Train Acc: 0.9940, Test Acc: 0.8688, Time: 21.4, lr: 0.021500\n"
          ]
        },
        {
          "output_type": "stream",
          "name": "stderr",
          "text": [
            "\r 66%|██████▌   | 33/50 [11:57<06:08, 21.65s/it]"
          ]
        },
        {
          "output_type": "stream",
          "name": "stdout",
          "text": [
            "[ConvMixer] Epoch: 32 | Train Acc: 0.9964, Test Acc: 0.8754, Time: 21.4, lr: 0.019125\n"
          ]
        },
        {
          "output_type": "stream",
          "name": "stderr",
          "text": [
            "\r 68%|██████▊   | 34/50 [12:19<05:44, 21.52s/it]"
          ]
        },
        {
          "output_type": "stream",
          "name": "stdout",
          "text": [
            "[ConvMixer] Epoch: 33 | Train Acc: 0.9979, Test Acc: 0.8823, Time: 21.2, lr: 0.016750\n"
          ]
        },
        {
          "output_type": "stream",
          "name": "stderr",
          "text": [
            "\r 70%|███████   | 35/50 [12:40<05:21, 21.43s/it]"
          ]
        },
        {
          "output_type": "stream",
          "name": "stdout",
          "text": [
            "[ConvMixer] Epoch: 34 | Train Acc: 0.9991, Test Acc: 0.8873, Time: 21.2, lr: 0.014375\n"
          ]
        },
        {
          "output_type": "stream",
          "name": "stderr",
          "text": [
            "\r 72%|███████▏  | 36/50 [13:01<04:58, 21.34s/it]"
          ]
        },
        {
          "output_type": "stream",
          "name": "stdout",
          "text": [
            "[ConvMixer] Epoch: 35 | Train Acc: 0.9997, Test Acc: 0.8898, Time: 21.1, lr: 0.012000\n"
          ]
        },
        {
          "output_type": "stream",
          "name": "stderr",
          "text": [
            "\r 74%|███████▍  | 37/50 [13:22<04:36, 21.27s/it]"
          ]
        },
        {
          "output_type": "stream",
          "name": "stdout",
          "text": [
            "[ConvMixer] Epoch: 36 | Train Acc: 1.0000, Test Acc: 0.8912, Time: 21.1, lr: 0.009625\n"
          ]
        },
        {
          "output_type": "stream",
          "name": "stderr",
          "text": [
            "\r 76%|███████▌  | 38/50 [13:43<04:14, 21.24s/it]"
          ]
        },
        {
          "output_type": "stream",
          "name": "stdout",
          "text": [
            "[ConvMixer] Epoch: 37 | Train Acc: 1.0000, Test Acc: 0.8935, Time: 21.2, lr: 0.007250\n"
          ]
        },
        {
          "output_type": "stream",
          "name": "stderr",
          "text": [
            "\r 78%|███████▊  | 39/50 [14:04<03:53, 21.19s/it]"
          ]
        },
        {
          "output_type": "stream",
          "name": "stdout",
          "text": [
            "[ConvMixer] Epoch: 38 | Train Acc: 1.0000, Test Acc: 0.8924, Time: 21.1, lr: 0.004875\n"
          ]
        },
        {
          "output_type": "stream",
          "name": "stderr",
          "text": [
            "\r 80%|████████  | 40/50 [14:25<03:31, 21.16s/it]"
          ]
        },
        {
          "output_type": "stream",
          "name": "stdout",
          "text": [
            "[ConvMixer] Epoch: 39 | Train Acc: 1.0000, Test Acc: 0.8921, Time: 21.1, lr: 0.002500\n"
          ]
        },
        {
          "output_type": "stream",
          "name": "stderr",
          "text": [
            "\r 82%|████████▏ | 41/50 [14:47<03:10, 21.13s/it]"
          ]
        },
        {
          "output_type": "stream",
          "name": "stdout",
          "text": [
            "[ConvMixer] Epoch: 40 | Train Acc: 1.0000, Test Acc: 0.8918, Time: 21.1, lr: 0.002250\n"
          ]
        },
        {
          "output_type": "stream",
          "name": "stderr",
          "text": [
            "\r 84%|████████▍ | 42/50 [15:08<02:48, 21.11s/it]"
          ]
        },
        {
          "output_type": "stream",
          "name": "stdout",
          "text": [
            "[ConvMixer] Epoch: 41 | Train Acc: 1.0000, Test Acc: 0.8918, Time: 21.0, lr: 0.002000\n"
          ]
        },
        {
          "output_type": "stream",
          "name": "stderr",
          "text": [
            "\r 86%|████████▌ | 43/50 [15:29<02:29, 21.30s/it]"
          ]
        },
        {
          "output_type": "stream",
          "name": "stdout",
          "text": [
            "[ConvMixer] Epoch: 42 | Train Acc: 1.0000, Test Acc: 0.8924, Time: 21.7, lr: 0.001750\n"
          ]
        },
        {
          "output_type": "stream",
          "name": "stderr",
          "text": [
            "\r 88%|████████▊ | 44/50 [15:50<02:07, 21.23s/it]"
          ]
        },
        {
          "output_type": "stream",
          "name": "stdout",
          "text": [
            "[ConvMixer] Epoch: 43 | Train Acc: 1.0000, Test Acc: 0.8926, Time: 21.1, lr: 0.001500\n"
          ]
        },
        {
          "output_type": "stream",
          "name": "stderr",
          "text": [
            "\r 90%|█████████ | 45/50 [16:11<01:45, 21.17s/it]"
          ]
        },
        {
          "output_type": "stream",
          "name": "stdout",
          "text": [
            "[ConvMixer] Epoch: 44 | Train Acc: 1.0000, Test Acc: 0.8929, Time: 21.0, lr: 0.001250\n"
          ]
        },
        {
          "output_type": "stream",
          "name": "stderr",
          "text": [
            "\r 92%|█████████▏| 46/50 [16:33<01:24, 21.14s/it]"
          ]
        },
        {
          "output_type": "stream",
          "name": "stdout",
          "text": [
            "[ConvMixer] Epoch: 45 | Train Acc: 1.0000, Test Acc: 0.8926, Time: 21.1, lr: 0.001000\n"
          ]
        },
        {
          "output_type": "stream",
          "name": "stderr",
          "text": [
            "\r 94%|█████████▍| 47/50 [16:54<01:03, 21.10s/it]"
          ]
        },
        {
          "output_type": "stream",
          "name": "stdout",
          "text": [
            "[ConvMixer] Epoch: 46 | Train Acc: 1.0000, Test Acc: 0.8927, Time: 21.0, lr: 0.000750\n"
          ]
        },
        {
          "output_type": "stream",
          "name": "stderr",
          "text": [
            "\r 96%|█████████▌| 48/50 [17:15<00:42, 21.11s/it]"
          ]
        },
        {
          "output_type": "stream",
          "name": "stdout",
          "text": [
            "[ConvMixer] Epoch: 47 | Train Acc: 1.0000, Test Acc: 0.8938, Time: 21.1, lr: 0.000500\n"
          ]
        },
        {
          "output_type": "stream",
          "name": "stderr",
          "text": [
            "\r 98%|█████████▊| 49/50 [17:36<00:21, 21.12s/it]"
          ]
        },
        {
          "output_type": "stream",
          "name": "stdout",
          "text": [
            "[ConvMixer] Epoch: 48 | Train Acc: 1.0000, Test Acc: 0.8929, Time: 21.1, lr: 0.000250\n"
          ]
        },
        {
          "output_type": "stream",
          "name": "stderr",
          "text": [
            "100%|██████████| 50/50 [17:57<00:00, 21.55s/it]"
          ]
        },
        {
          "output_type": "stream",
          "name": "stdout",
          "text": [
            "[ConvMixer] Epoch: 49 | Train Acc: 1.0000, Test Acc: 0.8927, Time: 21.2, lr: 0.000000\n"
          ]
        },
        {
          "output_type": "stream",
          "name": "stderr",
          "text": [
            "\n"
          ]
        }
      ]
    },
    {
      "cell_type": "code",
      "source": [
        "print(train_loss_list)\n",
        "print(test_loss_list)\n",
        "\n",
        "print(train_acc_list)\n",
        "print(test_acc_list)\n",
        "print(lr_list)\n",
        "print(time_list)"
      ],
      "metadata": {
        "colab": {
          "base_uri": "https://localhost:8080/"
        },
        "id": "bZ7pHRvp675x",
        "outputId": "dd325ba5-b06c-41fb-c236-683fafa2ec78"
      },
      "execution_count": null,
      "outputs": [
        {
          "output_type": "stream",
          "name": "stdout",
          "text": [
            "[73226.70252609253, 44894.93053340912, 32728.065420150757, 26193.476806163788, 22562.947998046875, 19985.049862861633, 17838.621518611908, 15985.782431602478, 15076.888216972351, 13710.19265460968, 13058.542317867279, 12158.936955451965, 11725.984111785889, 10803.644054412842, 11152.674582004547, 10496.004639863968, 9715.954736709595, 9557.115330219269, 9831.14015865326, 9777.59999203682, 8404.417528390884, 6840.132852077484, 5850.92157125473, 5547.751212835312, 4541.697461366653, 3407.713275074959, 3284.5737812519073, 3261.724172949791, 2166.631875395775, 1913.726145029068, 1256.5120679438114, 847.9473339319229, 527.1396574229002, 328.2147749736905, 166.09756529703736, 54.42550480924547, 14.719278456643224, 8.173536420799792, 6.499605413991958, 6.465775728516746, 6.019932866562158, 5.632592440233566, 5.012894389219582, 4.986024617217481, 4.732241511694156, 4.973398805363104, 4.416743993060663, 4.384177209576592, 4.248486279509962, 4.379505873541348]\n",
            "[12269.757167816162, 9965.927883148193, 8149.009189605713, 6901.513920783997, 6900.209962844849, 8219.403308868408, 6764.163177490234, 6062.109501838684, 7151.486086845398, 6031.3647718429565, 6006.911169052124, 9702.971684455872, 5796.033822059631, 7884.35941028595, 9585.765745162964, 6289.153391838074, 7130.715347290039, 6620.196165084839, 7337.080226898193, 6063.1501541137695, 6961.874869346619, 6838.1734075546265, 6027.412961959839, 7341.662749290466, 6039.11216545105, 7110.646717071533, 7288.198848724365, 7164.336638450623, 6983.106019020081, 7549.765487670898, 6802.647978782654, 7124.287053108215, 7082.384111404419, 7114.1050634384155, 6773.6150598526, 6696.792163848877, 6665.8720417022705, 6652.448125839233, 6626.155361175537, 6665.629940032959, 6624.164209365845, 6664.994782447815, 6646.51464176178, 6658.653087615967, 6637.540774345398, 6677.7623081207275, 6643.606779098511, 6641.233777999878, 6635.927510261536, 6644.289682388306]\n",
            "[0.46586, 0.68016, 0.7721, 0.81778, 0.84372, 0.86042, 0.87678, 0.88916, 0.89558, 0.90398, 0.90726, 0.9142, 0.91788, 0.92362, 0.92188, 0.92646, 0.93096, 0.93278, 0.9303, 0.93114, 0.94154, 0.9528, 0.95844, 0.96124, 0.96836, 0.97638, 0.977, 0.9769, 0.98458, 0.98698, 0.99092, 0.99396, 0.99636, 0.99794, 0.99906, 0.99974, 0.99998, 1.0, 1.0, 1.0, 1.0, 1.0, 1.0, 1.0, 1.0, 1.0, 1.0, 1.0, 1.0, 1.0]\n",
            "[0.5752, 0.6732, 0.7314, 0.772, 0.7737, 0.7428, 0.7987, 0.805, 0.7774, 0.8148, 0.8147, 0.7264, 0.8196, 0.7944, 0.7499, 0.8167, 0.8128, 0.8127, 0.8069, 0.828, 0.8221, 0.8223, 0.8432, 0.8227, 0.8499, 0.8362, 0.8404, 0.8336, 0.859, 0.8546, 0.8715, 0.8688, 0.8754, 0.8823, 0.8873, 0.8898, 0.8912, 0.8935, 0.8924, 0.8921, 0.8918, 0.8918, 0.8924, 0.8926, 0.8929, 0.8926, 0.8927, 0.8938, 0.8929, 0.8927]\n",
            "[0.0025, 0.005, 0.0075, 0.01, 0.0125, 0.015, 0.0175, 0.02, 0.0225, 0.025, 0.0275, 0.03, 0.0325, 0.035, 0.0375, 0.04, 0.0425, 0.045, 0.0475, 0.05, 0.047625, 0.045250000000000005, 0.042875, 0.0405, 0.038125000000000006, 0.035750000000000004, 0.033375, 0.031000000000000003, 0.028625000000000005, 0.026250000000000002, 0.023875000000000004, 0.021500000000000005, 0.019125000000000003, 0.01675, 0.014375000000000006, 0.012000000000000004, 0.009625000000000002, 0.0072500000000000064, 0.004875000000000004, 0.0025, 0.0022500000000000003, 0.002, 0.00175, 0.0015, 0.00125, 0.001, 0.00075, 0.0005, 0.0002499999999999998, 0.0]\n",
            "[27.098433256149292, 20.903818368911743, 21.60862636566162, 21.87975001335144, 21.674610376358032, 21.516597270965576, 21.520260095596313, 21.66404962539673, 22.43201446533203, 21.424824237823486, 21.492433309555054, 21.536872386932373, 21.635517835617065, 21.520568132400513, 21.522794008255005, 21.5501868724823, 21.501490592956543, 21.598409175872803, 21.42641806602478, 22.208642959594727, 21.41039538383484, 21.479121446609497, 21.39597988128662, 21.430783987045288, 21.446958541870117, 21.411025285720825, 21.477866411209106, 21.428802490234375, 21.53248119354248, 21.4169340133667, 22.90731167793274, 21.403486967086792, 21.41755771636963, 21.22515034675598, 21.210577964782715, 21.1163489818573, 21.126817226409912, 21.16742467880249, 21.078388452529907, 21.07650899887085, 21.07396936416626, 21.040928840637207, 21.74902629852295, 21.065571784973145, 21.029035329818726, 21.06540870666504, 21.012116193771362, 21.129506826400757, 21.135194540023804, 21.158605337142944]\n"
          ]
        }
      ]
    },
    {
      "cell_type": "code",
      "source": [
        "plt.title(\"Loss\")\n",
        "plt.xlabel(\"epoch\")\n",
        "plt.ylabel(\"loss\")\n",
        "plt.plot(train_loss_list, '-', label = \"train\")\n",
        "plt.plot(test_loss_list, '--', label = \"test\")\n",
        "plt.legend()\n",
        "plt.savefig('loss.png', dpi=300)"
      ],
      "metadata": {
        "colab": {
          "base_uri": "https://localhost:8080/",
          "height": 295
        },
        "id": "W0dVWQ94fwGf",
        "outputId": "03e6fb8e-aa16-4aa6-8d87-fdaa681d572b"
      },
      "execution_count": null,
      "outputs": [
        {
          "output_type": "display_data",
          "data": {
            "text/plain": [
              "<Figure size 432x288 with 1 Axes>"
            ],
            "image/png": "[encoded data removed]"
          },
          "metadata": {
            "needs_background": "light"
          }
        }
      ]
    },
    {
      "cell_type": "code",
      "source": [
        "plt.title(\"Accuracy\")\n",
        "plt.xlabel(\"epcoh\")\n",
        "plt.ylabel(\"acc\")\n",
        "plt.plot(train_acc_list, \"-\", label = \"train\")\n",
        "plt.plot(test_acc_list, \"--\", label = \"test\")\n",
        "plt.legend()\n",
        "plt.savefig('accuracy.png', dpi=300)"
      ],
      "metadata": {
        "colab": {
          "base_uri": "https://localhost:8080/",
          "height": 295
        },
        "id": "CWd_aX7WY1o2",
        "outputId": "d69bc784-7154-4ff8-dd9d-4f38bdeebd95"
      },
      "execution_count": null,
      "outputs": [
        {
          "output_type": "display_data",
          "data": {
            "text/plain": [
              "<Figure size 432x288 with 1 Axes>"
            ],
            "image/png": "[encoded data removed]"
          },
          "metadata": {
            "needs_background": "light"
          }
        }
      ]
    },
    {
      "cell_type": "code",
      "source": [
        "plt.title(\"Learning rate\")\n",
        "plt.xlabel(\"epcoh\")\n",
        "plt.ylabel(\"lr\")\n",
        "plt.plot(lr_list)\n",
        "plt.savefig('learningrate.png', dpi=300)"
      ],
      "metadata": {
        "colab": {
          "base_uri": "https://localhost:8080/",
          "height": 295
        },
        "id": "Rzwt8D01hB7M",
        "outputId": "53aed349-e7d3-47c9-e828-0dbc6de66a93"
      },
      "execution_count": null,
      "outputs": [
        {
          "output_type": "display_data",
          "data": {
            "text/plain": [
              "<Figure size 432x288 with 1 Axes>"
            ],
            "image/png": "[encoded data removed]"
          },
          "metadata": {
            "needs_background": "light"
          }
        }
      ]
    },
    {
      "cell_type": "code",
      "source": [
        "sum(time_list) / len(time_list)"
      ],
      "metadata": {
        "colab": {
          "base_uri": "https://localhost:8080/"
        },
        "id": "usLL_l6shHr0",
        "outputId": "3c659f5b-12bf-4d6d-908c-3d693ff1f216"
      },
      "execution_count": null,
      "outputs": [
        {
          "output_type": "execute_result",
          "data": {
            "text/plain": [
              "21.546712045669555"
            ]
          },
          "metadata": {},
          "execution_count": 16
        }
      ]
    },
    {
      "cell_type": "code",
      "source": [],
      "metadata": {
        "colab": {
          "base_uri": "https://localhost:8080/"
        },
        "id": "oiliq_uhgj8H",
        "outputId": "7ec5ac92-6b9c-4902-de88-7ffc1dc7dc55"
      },
      "execution_count": null,
      "outputs": [
        {
          "output_type": "execute_result",
          "data": {
            "text/plain": [
              "(50000, 10000)"
            ]
          },
          "metadata": {},
          "execution_count": 30
        }
      ]
    }
  ]
}