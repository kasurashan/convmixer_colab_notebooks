{
  "nbformat": 4,
  "nbformat_minor": 0,
  "metadata": {
    "colab": {
      "provenance": [],
      "collapsed_sections": []
    },
    "kernelspec": {
      "name": "python3",
      "display_name": "Python 3"
    },
    "language_info": {
      "name": "python"
    },
    "accelerator": "GPU",
    "gpuClass": "standard",
    "widgets": {
      "application/vnd.jupyter.widget-state+json": {
        "6d068e2a449e4d378f9a65757412a03d": {
          "model_module": "@jupyter-widgets/controls",
          "model_name": "HBoxModel",
          "model_module_version": "1.5.0",
          "state": {
            "_dom_classes": [],
            "_model_module": "@jupyter-widgets/controls",
            "_model_module_version": "1.5.0",
            "_model_name": "HBoxModel",
            "_view_count": null,
            "_view_module": "@jupyter-widgets/controls",
            "_view_module_version": "1.5.0",
            "_view_name": "HBoxView",
            "box_style": "",
            "children": [
              "IPY_MODEL_c59b436bb9e84ab687d3333dc67f4498",
              "IPY_MODEL_58ea27a835524bebbeb090b410b5e1d4",
              "IPY_MODEL_7be4c7feaffe4a859d20bafcb48cf261"
            ],
            "layout": "IPY_MODEL_cc85c676a55342729f37436954a799b2"
          }
        },
        "c59b436bb9e84ab687d3333dc67f4498": {
          "model_module": "@jupyter-widgets/controls",
          "model_name": "HTMLModel",
          "model_module_version": "1.5.0",
          "state": {
            "_dom_classes": [],
            "_model_module": "@jupyter-widgets/controls",
            "_model_module_version": "1.5.0",
            "_model_name": "HTMLModel",
            "_view_count": null,
            "_view_module": "@jupyter-widgets/controls",
            "_view_module_version": "1.5.0",
            "_view_name": "HTMLView",
            "description": "",
            "description_tooltip": null,
            "layout": "IPY_MODEL_e852a695515b4d419ff191a3ffe27ebb",
            "placeholder": "​",
            "style": "IPY_MODEL_5a49017ec32f40c895c0e80eeaaffff8",
            "value": "100%"
          }
        },
        "58ea27a835524bebbeb090b410b5e1d4": {
          "model_module": "@jupyter-widgets/controls",
          "model_name": "FloatProgressModel",
          "model_module_version": "1.5.0",
          "state": {
            "_dom_classes": [],
            "_model_module": "@jupyter-widgets/controls",
            "_model_module_version": "1.5.0",
            "_model_name": "FloatProgressModel",
            "_view_count": null,
            "_view_module": "@jupyter-widgets/controls",
            "_view_module_version": "1.5.0",
            "_view_name": "ProgressView",
            "bar_style": "success",
            "description": "",
            "description_tooltip": null,
            "layout": "IPY_MODEL_b992f02a20b84f93950972823261adf9",
            "max": 170498071,
            "min": 0,
            "orientation": "horizontal",
            "style": "IPY_MODEL_1452869188cc4d048d901e699776f85c",
            "value": 170498071
          }
        },
        "7be4c7feaffe4a859d20bafcb48cf261": {
          "model_module": "@jupyter-widgets/controls",
          "model_name": "HTMLModel",
          "model_module_version": "1.5.0",
          "state": {
            "_dom_classes": [],
            "_model_module": "@jupyter-widgets/controls",
            "_model_module_version": "1.5.0",
            "_model_name": "HTMLModel",
            "_view_count": null,
            "_view_module": "@jupyter-widgets/controls",
            "_view_module_version": "1.5.0",
            "_view_name": "HTMLView",
            "description": "",
            "description_tooltip": null,
            "layout": "IPY_MODEL_c192439ea746445ba12b9c26c54ddf55",
            "placeholder": "​",
            "style": "IPY_MODEL_be571e487d3a4f0d83b8f8466a89009f",
            "value": " 170498071/170498071 [00:05&lt;00:00, 32178924.00it/s]"
          }
        },
        "cc85c676a55342729f37436954a799b2": {
          "model_module": "@jupyter-widgets/base",
          "model_name": "LayoutModel",
          "model_module_version": "1.2.0",
          "state": {
            "_model_module": "@jupyter-widgets/base",
            "_model_module_version": "1.2.0",
            "_model_name": "LayoutModel",
            "_view_count": null,
            "_view_module": "@jupyter-widgets/base",
            "_view_module_version": "1.2.0",
            "_view_name": "LayoutView",
            "align_content": null,
            "align_items": null,
            "align_self": null,
            "border": null,
            "bottom": null,
            "display": null,
            "flex": null,
            "flex_flow": null,
            "grid_area": null,
            "grid_auto_columns": null,
            "grid_auto_flow": null,
            "grid_auto_rows": null,
            "grid_column": null,
            "grid_gap": null,
            "grid_row": null,
            "grid_template_areas": null,
            "grid_template_columns": null,
            "grid_template_rows": null,
            "height": null,
            "justify_content": null,
            "justify_items": null,
            "left": null,
            "margin": null,
            "max_height": null,
            "max_width": null,
            "min_height": null,
            "min_width": null,
            "object_fit": null,
            "object_position": null,
            "order": null,
            "overflow": null,
            "overflow_x": null,
            "overflow_y": null,
            "padding": null,
            "right": null,
            "top": null,
            "visibility": null,
            "width": null
          }
        },
        "e852a695515b4d419ff191a3ffe27ebb": {
          "model_module": "@jupyter-widgets/base",
          "model_name": "LayoutModel",
          "model_module_version": "1.2.0",
          "state": {
            "_model_module": "@jupyter-widgets/base",
            "_model_module_version": "1.2.0",
            "_model_name": "LayoutModel",
            "_view_count": null,
            "_view_module": "@jupyter-widgets/base",
            "_view_module_version": "1.2.0",
            "_view_name": "LayoutView",
            "align_content": null,
            "align_items": null,
            "align_self": null,
            "border": null,
            "bottom": null,
            "display": null,
            "flex": null,
            "flex_flow": null,
            "grid_area": null,
            "grid_auto_columns": null,
            "grid_auto_flow": null,
            "grid_auto_rows": null,
            "grid_column": null,
            "grid_gap": null,
            "grid_row": null,
            "grid_template_areas": null,
            "grid_template_columns": null,
            "grid_template_rows": null,
            "height": null,
            "justify_content": null,
            "justify_items": null,
            "left": null,
            "margin": null,
            "max_height": null,
            "max_width": null,
            "min_height": null,
            "min_width": null,
            "object_fit": null,
            "object_position": null,
            "order": null,
            "overflow": null,
            "overflow_x": null,
            "overflow_y": null,
            "padding": null,
            "right": null,
            "top": null,
            "visibility": null,
            "width": null
          }
        },
        "5a49017ec32f40c895c0e80eeaaffff8": {
          "model_module": "@jupyter-widgets/controls",
          "model_name": "DescriptionStyleModel",
          "model_module_version": "1.5.0",
          "state": {
            "_model_module": "@jupyter-widgets/controls",
            "_model_module_version": "1.5.0",
            "_model_name": "DescriptionStyleModel",
            "_view_count": null,
            "_view_module": "@jupyter-widgets/base",
            "_view_module_version": "1.2.0",
            "_view_name": "StyleView",
            "description_width": ""
          }
        },
        "b992f02a20b84f93950972823261adf9": {
          "model_module": "@jupyter-widgets/base",
          "model_name": "LayoutModel",
          "model_module_version": "1.2.0",
          "state": {
            "_model_module": "@jupyter-widgets/base",
            "_model_module_version": "1.2.0",
            "_model_name": "LayoutModel",
            "_view_count": null,
            "_view_module": "@jupyter-widgets/base",
            "_view_module_version": "1.2.0",
            "_view_name": "LayoutView",
            "align_content": null,
            "align_items": null,
            "align_self": null,
            "border": null,
            "bottom": null,
            "display": null,
            "flex": null,
            "flex_flow": null,
            "grid_area": null,
            "grid_auto_columns": null,
            "grid_auto_flow": null,
            "grid_auto_rows": null,
            "grid_column": null,
            "grid_gap": null,
            "grid_row": null,
            "grid_template_areas": null,
            "grid_template_columns": null,
            "grid_template_rows": null,
            "height": null,
            "justify_content": null,
            "justify_items": null,
            "left": null,
            "margin": null,
            "max_height": null,
            "max_width": null,
            "min_height": null,
            "min_width": null,
            "object_fit": null,
            "object_position": null,
            "order": null,
            "overflow": null,
            "overflow_x": null,
            "overflow_y": null,
            "padding": null,
            "right": null,
            "top": null,
            "visibility": null,
            "width": null
          }
        },
        "1452869188cc4d048d901e699776f85c": {
          "model_module": "@jupyter-widgets/controls",
          "model_name": "ProgressStyleModel",
          "model_module_version": "1.5.0",
          "state": {
            "_model_module": "@jupyter-widgets/controls",
            "_model_module_version": "1.5.0",
            "_model_name": "ProgressStyleModel",
            "_view_count": null,
            "_view_module": "@jupyter-widgets/base",
            "_view_module_version": "1.2.0",
            "_view_name": "StyleView",
            "bar_color": null,
            "description_width": ""
          }
        },
        "c192439ea746445ba12b9c26c54ddf55": {
          "model_module": "@jupyter-widgets/base",
          "model_name": "LayoutModel",
          "model_module_version": "1.2.0",
          "state": {
            "_model_module": "@jupyter-widgets/base",
            "_model_module_version": "1.2.0",
            "_model_name": "LayoutModel",
            "_view_count": null,
            "_view_module": "@jupyter-widgets/base",
            "_view_module_version": "1.2.0",
            "_view_name": "LayoutView",
            "align_content": null,
            "align_items": null,
            "align_self": null,
            "border": null,
            "bottom": null,
            "display": null,
            "flex": null,
            "flex_flow": null,
            "grid_area": null,
            "grid_auto_columns": null,
            "grid_auto_flow": null,
            "grid_auto_rows": null,
            "grid_column": null,
            "grid_gap": null,
            "grid_row": null,
            "grid_template_areas": null,
            "grid_template_columns": null,
            "grid_template_rows": null,
            "height": null,
            "justify_content": null,
            "justify_items": null,
            "left": null,
            "margin": null,
            "max_height": null,
            "max_width": null,
            "min_height": null,
            "min_width": null,
            "object_fit": null,
            "object_position": null,
            "order": null,
            "overflow": null,
            "overflow_x": null,
            "overflow_y": null,
            "padding": null,
            "right": null,
            "top": null,
            "visibility": null,
            "width": null
          }
        },
        "be571e487d3a4f0d83b8f8466a89009f": {
          "model_module": "@jupyter-widgets/controls",
          "model_name": "DescriptionStyleModel",
          "model_module_version": "1.5.0",
          "state": {
            "_model_module": "@jupyter-widgets/controls",
            "_model_module_version": "1.5.0",
            "_model_name": "DescriptionStyleModel",
            "_view_count": null,
            "_view_module": "@jupyter-widgets/base",
            "_view_module_version": "1.2.0",
            "_view_name": "StyleView",
            "description_width": ""
          }
        }
      }
    }
  },
  "cells": [
    {
      "cell_type": "code",
      "execution_count": null,
      "metadata": {
        "id": "2l8WC0A01Jge"
      },
      "outputs": [],
      "source": [
        "import torch\n",
        "import torch.nn as nn\n",
        "import torch.optim as optim\n",
        "import torchvision\n",
        "import torchvision.transforms as transforms\n",
        "import numpy as np\n",
        "import time\n",
        "import argparse\n",
        "from tqdm import tqdm\n",
        "import matplotlib.pyplot as plt"
      ]
    },
    {
      "cell_type": "code",
      "source": [
        "args = argparse.Namespace(name = \"ConvMixer\", \n",
        "                          batch_size = 512,\n",
        "                          scale = 0.75,\n",
        "                          reprob = 0.25,\n",
        "                          ra_m = 8,\n",
        "                          ra_n = 1,\n",
        "                          jitter = 0.2,\n",
        "                          hdim = 256,\n",
        "                          depth = 8,\n",
        "                          psize = 2,\n",
        "                          conv_ks = 5,\n",
        "                          wd = 0.005,\n",
        "                          clip_norm = 'store_true',\n",
        "                          epochs = 100,\n",
        "                          lr_max = 0.05,\n",
        "                          workers = 2,\n",
        "                          cutmix_prob = 0.5, \n",
        "                          beta = 1.0 )"
      ],
      "metadata": {
        "id": "r-W5IvuS1OmN"
      },
      "execution_count": null,
      "outputs": []
    },
    {
      "cell_type": "code",
      "source": [
        "class Residual(nn.Module):\n",
        "    def __init__(self, fn):\n",
        "        super().__init__()\n",
        "        self.fn = fn\n",
        "\n",
        "    def forward(self, x):\n",
        "        return self.fn(x) + x"
      ],
      "metadata": {
        "id": "MJdcXkM11P9s"
      },
      "execution_count": null,
      "outputs": []
    },
    {
      "cell_type": "code",
      "source": [
        "def ConvMixer(dim, depth, kernel_size=5, patch_size=2, n_classes=10):\n",
        "    return nn.Sequential(\n",
        "        nn.Conv2d(3, dim, kernel_size=patch_size, stride=patch_size),\n",
        "        nn.GELU(),\n",
        "        nn.BatchNorm2d(dim),\n",
        "        *[nn.Sequential(\n",
        "                Residual(nn.Sequential(\n",
        "                    nn.Conv2d(dim, dim, kernel_size, groups=dim, padding=\"same\"),\n",
        "                    nn.GELU(),\n",
        "                    nn.BatchNorm2d(dim)\n",
        "                )),\n",
        "                nn.Conv2d(dim, dim, kernel_size=1),\n",
        "                nn.GELU(),\n",
        "                nn.BatchNorm2d(dim)\n",
        "        ) for i in range(depth)],\n",
        "        nn.AdaptiveAvgPool2d((1,1)),\n",
        "        nn.Flatten(),\n",
        "        nn.Linear(dim, n_classes)\n",
        "    )"
      ],
      "metadata": {
        "id": "IZy8g4_o1SQ0"
      },
      "execution_count": null,
      "outputs": []
    },
    {
      "cell_type": "code",
      "source": [
        "cifar10_mean = (0.4914, 0.4822, 0.4465)\n",
        "cifar10_std = (0.2471, 0.2435, 0.2616)"
      ],
      "metadata": {
        "id": "RUEurQXS1Tw6"
      },
      "execution_count": null,
      "outputs": []
    },
    {
      "cell_type": "code",
      "source": [
        "# augmentation 포함된 변환\n",
        "train_transform = transforms.Compose([\n",
        "    transforms.RandomResizedCrop(32, scale=(args.scale, 1.0), ratio=(1.0, 1.0)),\n",
        "    transforms.RandomHorizontalFlip(p=0.5),\n",
        "    transforms.RandAugment(num_ops=args.ra_n, magnitude=args.ra_m),\n",
        "    transforms.ColorJitter(args.jitter, args.jitter, args.jitter),\n",
        "    transforms.ToTensor(),\n",
        "    transforms.Normalize(cifar10_mean, cifar10_std),\n",
        "    transforms.RandomErasing(p=args.reprob)\n",
        "])\n",
        "\n",
        "test_transform = transforms.Compose([\n",
        "    transforms.ToTensor(),\n",
        "    transforms.Normalize(cifar10_mean, cifar10_std)\n",
        "])"
      ],
      "metadata": {
        "id": "ekFfSFFm1UaJ"
      },
      "execution_count": null,
      "outputs": []
    },
    {
      "cell_type": "code",
      "source": [
        "# no augmentation\n",
        "train_transform = transforms.Compose([\n",
        "    #transforms.RandomResizedCrop(32, scale=(args.scale, 1.0), ratio=(1.0, 1.0)),\n",
        "    #transforms.RandomHorizontalFlip(p=0.5),\n",
        "    #transforms.RandAugment(num_ops=args.ra_n, magnitude=args.ra_m),\n",
        "    #transforms.ColorJitter(args.jitter, args.jitter, args.jitter),\n",
        "    transforms.ToTensor(),\n",
        "    transforms.Normalize(cifar10_mean, cifar10_std)\n",
        "    #transforms.RandomErasing(p=args.reprob)\n",
        "])\n",
        "\n",
        "test_transform = transforms.Compose([\n",
        "    transforms.ToTensor(),\n",
        "    transforms.Normalize(cifar10_mean, cifar10_std)\n",
        "])"
      ],
      "metadata": {
        "id": "zsOIPewSSiI5"
      },
      "execution_count": null,
      "outputs": []
    },
    {
      "cell_type": "code",
      "source": [
        "trainset = torchvision.datasets.CIFAR10(root='./data', train=True,\n",
        "                                        download=True, transform=train_transform)\n",
        "trainloader = torch.utils.data.DataLoader(trainset, batch_size=args.batch_size,\n",
        "                                          shuffle=True, num_workers=args.workers)\n",
        "\n",
        "testset = torchvision.datasets.CIFAR10(root='./data', train=False,\n",
        "                                       download=True, transform=test_transform)\n",
        "testloader = torch.utils.data.DataLoader(testset, batch_size=args.batch_size,\n",
        "                                         shuffle=False, num_workers=args.workers)"
      ],
      "metadata": {
        "colab": {
          "base_uri": "https://localhost:8080/",
          "height": 104,
          "referenced_widgets": [
            "6d068e2a449e4d378f9a65757412a03d",
            "c59b436bb9e84ab687d3333dc67f4498",
            "58ea27a835524bebbeb090b410b5e1d4",
            "7be4c7feaffe4a859d20bafcb48cf261",
            "cc85c676a55342729f37436954a799b2",
            "e852a695515b4d419ff191a3ffe27ebb",
            "5a49017ec32f40c895c0e80eeaaffff8",
            "b992f02a20b84f93950972823261adf9",
            "1452869188cc4d048d901e699776f85c",
            "c192439ea746445ba12b9c26c54ddf55",
            "be571e487d3a4f0d83b8f8466a89009f"
          ]
        },
        "id": "Qli6e-PE1V7t",
        "outputId": "72f6fe91-e962-4069-9771-828dfe35e87f"
      },
      "execution_count": null,
      "outputs": [
        {
          "output_type": "stream",
          "name": "stdout",
          "text": [
            "Downloading https://www.cs.toronto.edu/~kriz/cifar-10-python.tar.gz to ./data/cifar-10-python.tar.gz\n"
          ]
        },
        {
          "output_type": "display_data",
          "data": {
            "text/plain": [
              "  0%|          | 0/170498071 [00:00<?, ?it/s]"
            ],
            "application/vnd.jupyter.widget-view+json": {
              "version_major": 2,
              "version_minor": 0,
              "model_id": "6d068e2a449e4d378f9a65757412a03d"
            }
          },
          "metadata": {}
        },
        {
          "output_type": "stream",
          "name": "stdout",
          "text": [
            "Extracting ./data/cifar-10-python.tar.gz to ./data\n",
            "Files already downloaded and verified\n"
          ]
        }
      ]
    },
    {
      "cell_type": "code",
      "source": [
        "model = ConvMixer(args.hdim, args.depth, patch_size=args.psize, kernel_size=args.conv_ks, n_classes=10)\n",
        "model = nn.DataParallel(model).cuda()"
      ],
      "metadata": {
        "id": "Y_LhjunM1XM0"
      },
      "execution_count": null,
      "outputs": []
    },
    {
      "cell_type": "code",
      "source": [
        "lr_schedule = lambda t: np.interp([t], [0, args.epochs*2//5, args.epochs*4//5, args.epochs], \n",
        "                                  [0, args.lr_max, args.lr_max/20.0, 0])[0]\n",
        "\n",
        "opt = optim.AdamW(model.parameters(), lr=args.lr_max, weight_decay=args.wd)\n",
        "criterion = nn.CrossEntropyLoss()\n",
        "scaler = torch.cuda.amp.GradScaler()"
      ],
      "metadata": {
        "id": "PaKVSHFU1Ytw"
      },
      "execution_count": null,
      "outputs": []
    },
    {
      "cell_type": "code",
      "source": [
        "print(lr_schedule(10))"
      ],
      "metadata": {
        "colab": {
          "base_uri": "https://localhost:8080/"
        },
        "id": "UJ57xhIDmYfE",
        "outputId": "faf0c242-090b-47d8-9532-f46c9f1a0f1d"
      },
      "execution_count": null,
      "outputs": [
        {
          "output_type": "stream",
          "name": "stdout",
          "text": [
            "0.025\n"
          ]
        }
      ]
    },
    {
      "cell_type": "code",
      "source": [
        "train_loss_list = []\n",
        "test_loss_list = []\n",
        "\n",
        "train_acc_list = []\n",
        "test_acc_list = []\n",
        "\n",
        "lr_list = []\n",
        "time_list = []"
      ],
      "metadata": {
        "id": "lYcxJrfwGoVg"
      },
      "execution_count": null,
      "outputs": []
    },
    {
      "cell_type": "code",
      "source": [
        "def rand_bbox(size, lam):\n",
        "    W = size[2]\n",
        "    H = size[3]\n",
        "    cut_rat = np.sqrt(1. - lam)\n",
        "    cut_w = np.int(W * cut_rat)\n",
        "    cut_h = np.int(H * cut_rat)\n",
        "\n",
        "    # uniform\n",
        "    cx = np.random.randint(W)\n",
        "    cy = np.random.randint(H)\n",
        "\n",
        "    bbx1 = np.clip(cx - cut_w // 2, 0, W)\n",
        "    bby1 = np.clip(cy - cut_h // 2, 0, H)\n",
        "    bbx2 = np.clip(cx + cut_w // 2, 0, W)\n",
        "    bby2 = np.clip(cy + cut_h // 2, 0, H)\n",
        "\n",
        "    return bbx1, bby1, bbx2, bby2"
      ],
      "metadata": {
        "id": "KW7i27wDHlDm"
      },
      "execution_count": null,
      "outputs": []
    },
    {
      "cell_type": "code",
      "source": [
        "# train & test\n",
        "\n",
        "for epoch in tqdm(range(args.epochs)):\n",
        "    start = time.time()\n",
        "    train_loss, train_acc, n = 0, 0, 0\n",
        "    test_loss = 0 ##################################\n",
        "\n",
        "    for i, (X, y) in enumerate(trainloader):\n",
        "        model.train()\n",
        "        X, y = X.cuda(), y.cuda()\n",
        "\n",
        "        lr = lr_schedule(epoch + (i + 1)/len(trainloader))\n",
        "        opt.param_groups[0].update(lr=lr)\n",
        "\n",
        "\n",
        "\n",
        "\n",
        "\n",
        "\n",
        "\n",
        "\n",
        "        opt.zero_grad()\n",
        "        with torch.cuda.amp.autocast():\n",
        "            r = np.random.rand(1)\n",
        "            if r<args.cutmix_prob:\n",
        "                lam = np.random.beta(args.beta, args.beta)\n",
        "                rand_index = torch.randperm(X.size()[0]).cuda()\n",
        "                target_a = y\n",
        "                target_b = y[rand_index]\n",
        "                bbx1, bby1, bbx2, bby2 = rand_bbox(X.size(), lam)\n",
        "                X[:, :, bbx1:bbx2, bby1:bby2] = X[rand_index, :, bbx1:bbx2, bby1:bby2]\n",
        "                lam = 1 - ((bbx2 - bbx1) * (bby2 - bby1) / (X.size()[-1] * X.size()[-2]))\n",
        "                output = model(X)\n",
        "                loss = criterion(output, target_a) * lam + criterion(output, target_b) * (1. - lam)            \n",
        "            else:\n",
        "                output = model(X)\n",
        "                loss = criterion(output, y)\n",
        "\n",
        "        scaler.scale(loss).backward()\n",
        "        if args.clip_norm:\n",
        "            scaler.unscale_(opt)\n",
        "            nn.utils.clip_grad_norm_(model.parameters(), 1.0)\n",
        "        scaler.step(opt)\n",
        "        scaler.update()\n",
        "        \n",
        "        train_loss += loss.item() * y.size(0)\n",
        "        train_acc += (output.max(1)[1] == y).sum().item()\n",
        "        n += y.size(0)\n",
        "\n",
        "\n",
        "        \n",
        "    model.eval()\n",
        "    test_acc, m = 0, 0\n",
        "    with torch.no_grad():\n",
        "        for i, (X, y) in enumerate(testloader):\n",
        "            X, y = X.cuda(), y.cuda()\n",
        "            with torch.cuda.amp.autocast():\n",
        "                output = model(X)\n",
        "                test_loss_tmp = criterion(output, y) ###################\n",
        "\n",
        "\n",
        "            test_loss += test_loss_tmp.item() * y.size(0) ##############\n",
        "\n",
        "            test_acc += (output.max(1)[1] == y).sum().item()\n",
        "            m += y.size(0)\n",
        "\n",
        "\n",
        "    train_loss_list.append(train_loss)\n",
        "    test_loss_list.append(test_loss)\n",
        "    train_acc_list.append(train_acc/n)    \n",
        "    test_acc_list.append(test_acc/m)\n",
        "    lr_list.append(lr)\n",
        "    time_list.append(time.time() - start)\n",
        "\n",
        "    print(f'[{args.name}] Epoch: {epoch} | Train Acc: {train_acc/n:.4f}, Test Acc: {test_acc/m:.4f}, Time: {time.time() - start:.1f}, lr: {lr:.6f}')"
      ],
      "metadata": {
        "colab": {
          "base_uri": "https://localhost:8080/",
          "height": 714
        },
        "id": "ag_QWarZ1eLM",
        "outputId": "a81914b8-2b7f-4a85-ffac-8c4d4075d4f2"
      },
      "execution_count": null,
      "outputs": [
        {
          "output_type": "stream",
          "name": "stderr",
          "text": [
            "\r  0%|          | 0/100 [00:00<?, ?it/s]/usr/local/lib/python3.7/dist-packages/ipykernel_launcher.py:5: DeprecationWarning: `np.int` is a deprecated alias for the builtin `int`. To silence this warning, use `int` by itself. Doing this will not modify any behavior and is safe. When replacing `np.int`, you may wish to use e.g. `np.int64` or `np.int32` to specify the precision. If you wish to review your current use, check the release note link for additional information.\n",
            "Deprecated in NumPy 1.20; for more details and guidance: https://numpy.org/devdocs/release/1.20.0-notes.html#deprecations\n",
            "  \"\"\"\n",
            "/usr/local/lib/python3.7/dist-packages/ipykernel_launcher.py:6: DeprecationWarning: `np.int` is a deprecated alias for the builtin `int`. To silence this warning, use `int` by itself. Doing this will not modify any behavior and is safe. When replacing `np.int`, you may wish to use e.g. `np.int64` or `np.int32` to specify the precision. If you wish to review your current use, check the release note link for additional information.\n",
            "Deprecated in NumPy 1.20; for more details and guidance: https://numpy.org/devdocs/release/1.20.0-notes.html#deprecations\n",
            "  \n",
            "  1%|          | 1/100 [00:20<33:57, 20.58s/it]"
          ]
        },
        {
          "output_type": "stream",
          "name": "stdout",
          "text": [
            "[ConvMixer] Epoch: 0 | Train Acc: 0.8814, Test Acc: 0.9189, Time: 20.6, lr: 0.001250\n"
          ]
        },
        {
          "output_type": "stream",
          "name": "stderr",
          "text": [
            "\r  2%|▏         | 2/100 [00:41<33:42, 20.64s/it]"
          ]
        },
        {
          "output_type": "stream",
          "name": "stdout",
          "text": [
            "[ConvMixer] Epoch: 1 | Train Acc: 0.9377, Test Acc: 0.9161, Time: 20.7, lr: 0.002500\n"
          ]
        },
        {
          "output_type": "stream",
          "name": "stderr",
          "text": [
            "\r  3%|▎         | 3/100 [01:02<33:30, 20.72s/it]"
          ]
        },
        {
          "output_type": "stream",
          "name": "stdout",
          "text": [
            "[ConvMixer] Epoch: 2 | Train Acc: 0.8770, Test Acc: 0.9162, Time: 20.8, lr: 0.003750\n"
          ]
        },
        {
          "output_type": "stream",
          "name": "stderr",
          "text": [
            "\r  4%|▍         | 4/100 [01:22<33:16, 20.80s/it]"
          ]
        },
        {
          "output_type": "stream",
          "name": "stdout",
          "text": [
            "[ConvMixer] Epoch: 3 | Train Acc: 0.8803, Test Acc: 0.9138, Time: 20.9, lr: 0.005000\n"
          ]
        },
        {
          "output_type": "stream",
          "name": "stderr",
          "text": [
            "\r  5%|▌         | 5/100 [01:44<33:03, 20.88s/it]"
          ]
        },
        {
          "output_type": "stream",
          "name": "stdout",
          "text": [
            "[ConvMixer] Epoch: 4 | Train Acc: 0.8525, Test Acc: 0.9111, Time: 21.0, lr: 0.006250\n"
          ]
        },
        {
          "output_type": "stream",
          "name": "stderr",
          "text": [
            "\r  6%|▌         | 6/100 [02:05<32:51, 20.97s/it]"
          ]
        },
        {
          "output_type": "stream",
          "name": "stdout",
          "text": [
            "[ConvMixer] Epoch: 5 | Train Acc: 0.8784, Test Acc: 0.9051, Time: 21.1, lr: 0.007500\n"
          ]
        },
        {
          "output_type": "stream",
          "name": "stderr",
          "text": [
            "\r  7%|▋         | 7/100 [02:26<32:39, 21.07s/it]"
          ]
        },
        {
          "output_type": "stream",
          "name": "stdout",
          "text": [
            "[ConvMixer] Epoch: 6 | Train Acc: 0.8816, Test Acc: 0.9053, Time: 21.3, lr: 0.008750\n"
          ]
        },
        {
          "output_type": "stream",
          "name": "stderr",
          "text": [
            "\r  8%|▊         | 8/100 [02:47<32:26, 21.15s/it]"
          ]
        },
        {
          "output_type": "stream",
          "name": "stdout",
          "text": [
            "[ConvMixer] Epoch: 7 | Train Acc: 0.8720, Test Acc: 0.9051, Time: 21.3, lr: 0.010000\n"
          ]
        },
        {
          "output_type": "stream",
          "name": "stderr",
          "text": [
            "\r  8%|▊         | 8/100 [02:59<34:23, 22.43s/it]\n"
          ]
        },
        {
          "output_type": "error",
          "ename": "KeyboardInterrupt",
          "evalue": "ignored",
          "traceback": [
            "\u001b[0;31m---------------------------------------------------------------------------\u001b[0m",
            "\u001b[0;31mKeyboardInterrupt\u001b[0m                         Traceback (most recent call last)",
            "\u001b[0;32m<ipython-input-22-4264289a7b1c>\u001b[0m in \u001b[0;36m<module>\u001b[0;34m\u001b[0m\n\u001b[1;32m     41\u001b[0m             \u001b[0mscaler\u001b[0m\u001b[0;34m.\u001b[0m\u001b[0munscale_\u001b[0m\u001b[0;34m(\u001b[0m\u001b[0mopt\u001b[0m\u001b[0;34m)\u001b[0m\u001b[0;34m\u001b[0m\u001b[0;34m\u001b[0m\u001b[0m\n\u001b[1;32m     42\u001b[0m             \u001b[0mnn\u001b[0m\u001b[0;34m.\u001b[0m\u001b[0mutils\u001b[0m\u001b[0;34m.\u001b[0m\u001b[0mclip_grad_norm_\u001b[0m\u001b[0;34m(\u001b[0m\u001b[0mmodel\u001b[0m\u001b[0;34m.\u001b[0m\u001b[0mparameters\u001b[0m\u001b[0;34m(\u001b[0m\u001b[0;34m)\u001b[0m\u001b[0;34m,\u001b[0m \u001b[0;36m1.0\u001b[0m\u001b[0;34m)\u001b[0m\u001b[0;34m\u001b[0m\u001b[0;34m\u001b[0m\u001b[0m\n\u001b[0;32m---> 43\u001b[0;31m         \u001b[0mscaler\u001b[0m\u001b[0;34m.\u001b[0m\u001b[0mstep\u001b[0m\u001b[0;34m(\u001b[0m\u001b[0mopt\u001b[0m\u001b[0;34m)\u001b[0m\u001b[0;34m\u001b[0m\u001b[0;34m\u001b[0m\u001b[0m\n\u001b[0m\u001b[1;32m     44\u001b[0m         \u001b[0mscaler\u001b[0m\u001b[0;34m.\u001b[0m\u001b[0mupdate\u001b[0m\u001b[0;34m(\u001b[0m\u001b[0;34m)\u001b[0m\u001b[0;34m\u001b[0m\u001b[0;34m\u001b[0m\u001b[0m\n\u001b[1;32m     45\u001b[0m \u001b[0;34m\u001b[0m\u001b[0m\n",
            "\u001b[0;32m/usr/local/lib/python3.7/dist-packages/torch/cuda/amp/grad_scaler.py\u001b[0m in \u001b[0;36mstep\u001b[0;34m(self, optimizer, *args, **kwargs)\u001b[0m\n\u001b[1;32m    336\u001b[0m         \u001b[0;32massert\u001b[0m \u001b[0mlen\u001b[0m\u001b[0;34m(\u001b[0m\u001b[0moptimizer_state\u001b[0m\u001b[0;34m[\u001b[0m\u001b[0;34m\"found_inf_per_device\"\u001b[0m\u001b[0;34m]\u001b[0m\u001b[0;34m)\u001b[0m \u001b[0;34m>\u001b[0m \u001b[0;36m0\u001b[0m\u001b[0;34m,\u001b[0m \u001b[0;34m\"No inf checks were recorded for this optimizer.\"\u001b[0m\u001b[0;34m\u001b[0m\u001b[0;34m\u001b[0m\u001b[0m\n\u001b[1;32m    337\u001b[0m \u001b[0;34m\u001b[0m\u001b[0m\n\u001b[0;32m--> 338\u001b[0;31m         \u001b[0mretval\u001b[0m \u001b[0;34m=\u001b[0m \u001b[0mself\u001b[0m\u001b[0;34m.\u001b[0m\u001b[0m_maybe_opt_step\u001b[0m\u001b[0;34m(\u001b[0m\u001b[0moptimizer\u001b[0m\u001b[0;34m,\u001b[0m \u001b[0moptimizer_state\u001b[0m\u001b[0;34m,\u001b[0m \u001b[0;34m*\u001b[0m\u001b[0margs\u001b[0m\u001b[0;34m,\u001b[0m \u001b[0;34m**\u001b[0m\u001b[0mkwargs\u001b[0m\u001b[0;34m)\u001b[0m\u001b[0;34m\u001b[0m\u001b[0;34m\u001b[0m\u001b[0m\n\u001b[0m\u001b[1;32m    339\u001b[0m \u001b[0;34m\u001b[0m\u001b[0m\n\u001b[1;32m    340\u001b[0m         \u001b[0moptimizer_state\u001b[0m\u001b[0;34m[\u001b[0m\u001b[0;34m\"stage\"\u001b[0m\u001b[0;34m]\u001b[0m \u001b[0;34m=\u001b[0m \u001b[0mOptState\u001b[0m\u001b[0;34m.\u001b[0m\u001b[0mSTEPPED\u001b[0m\u001b[0;34m\u001b[0m\u001b[0;34m\u001b[0m\u001b[0m\n",
            "\u001b[0;32m/usr/local/lib/python3.7/dist-packages/torch/cuda/amp/grad_scaler.py\u001b[0m in \u001b[0;36m_maybe_opt_step\u001b[0;34m(self, optimizer, optimizer_state, *args, **kwargs)\u001b[0m\n\u001b[1;32m    283\u001b[0m         \u001b[0mretval\u001b[0m \u001b[0;34m=\u001b[0m \u001b[0;32mNone\u001b[0m\u001b[0;34m\u001b[0m\u001b[0;34m\u001b[0m\u001b[0m\n\u001b[1;32m    284\u001b[0m         \u001b[0;32mif\u001b[0m \u001b[0;32mnot\u001b[0m \u001b[0msum\u001b[0m\u001b[0;34m(\u001b[0m\u001b[0mv\u001b[0m\u001b[0;34m.\u001b[0m\u001b[0mitem\u001b[0m\u001b[0;34m(\u001b[0m\u001b[0;34m)\u001b[0m \u001b[0;32mfor\u001b[0m \u001b[0mv\u001b[0m \u001b[0;32min\u001b[0m \u001b[0moptimizer_state\u001b[0m\u001b[0;34m[\u001b[0m\u001b[0;34m\"found_inf_per_device\"\u001b[0m\u001b[0;34m]\u001b[0m\u001b[0;34m.\u001b[0m\u001b[0mvalues\u001b[0m\u001b[0;34m(\u001b[0m\u001b[0;34m)\u001b[0m\u001b[0;34m)\u001b[0m\u001b[0;34m:\u001b[0m\u001b[0;34m\u001b[0m\u001b[0;34m\u001b[0m\u001b[0m\n\u001b[0;32m--> 285\u001b[0;31m             \u001b[0mretval\u001b[0m \u001b[0;34m=\u001b[0m \u001b[0moptimizer\u001b[0m\u001b[0;34m.\u001b[0m\u001b[0mstep\u001b[0m\u001b[0;34m(\u001b[0m\u001b[0;34m*\u001b[0m\u001b[0margs\u001b[0m\u001b[0;34m,\u001b[0m \u001b[0;34m**\u001b[0m\u001b[0mkwargs\u001b[0m\u001b[0;34m)\u001b[0m\u001b[0;34m\u001b[0m\u001b[0;34m\u001b[0m\u001b[0m\n\u001b[0m\u001b[1;32m    286\u001b[0m         \u001b[0;32mreturn\u001b[0m \u001b[0mretval\u001b[0m\u001b[0;34m\u001b[0m\u001b[0;34m\u001b[0m\u001b[0m\n\u001b[1;32m    287\u001b[0m \u001b[0;34m\u001b[0m\u001b[0m\n",
            "\u001b[0;32m/usr/local/lib/python3.7/dist-packages/torch/optim/optimizer.py\u001b[0m in \u001b[0;36mwrapper\u001b[0;34m(*args, **kwargs)\u001b[0m\n\u001b[1;32m    111\u001b[0m                 \u001b[0mprofile_name\u001b[0m \u001b[0;34m=\u001b[0m \u001b[0;34m\"Optimizer.step#{}.step\"\u001b[0m\u001b[0;34m.\u001b[0m\u001b[0mformat\u001b[0m\u001b[0;34m(\u001b[0m\u001b[0mobj\u001b[0m\u001b[0;34m.\u001b[0m\u001b[0m__class__\u001b[0m\u001b[0;34m.\u001b[0m\u001b[0m__name__\u001b[0m\u001b[0;34m)\u001b[0m\u001b[0;34m\u001b[0m\u001b[0;34m\u001b[0m\u001b[0m\n\u001b[1;32m    112\u001b[0m                 \u001b[0;32mwith\u001b[0m \u001b[0mtorch\u001b[0m\u001b[0;34m.\u001b[0m\u001b[0mautograd\u001b[0m\u001b[0;34m.\u001b[0m\u001b[0mprofiler\u001b[0m\u001b[0;34m.\u001b[0m\u001b[0mrecord_function\u001b[0m\u001b[0;34m(\u001b[0m\u001b[0mprofile_name\u001b[0m\u001b[0;34m)\u001b[0m\u001b[0;34m:\u001b[0m\u001b[0;34m\u001b[0m\u001b[0;34m\u001b[0m\u001b[0m\n\u001b[0;32m--> 113\u001b[0;31m                     \u001b[0;32mreturn\u001b[0m \u001b[0mfunc\u001b[0m\u001b[0;34m(\u001b[0m\u001b[0;34m*\u001b[0m\u001b[0margs\u001b[0m\u001b[0;34m,\u001b[0m \u001b[0;34m**\u001b[0m\u001b[0mkwargs\u001b[0m\u001b[0;34m)\u001b[0m\u001b[0;34m\u001b[0m\u001b[0;34m\u001b[0m\u001b[0m\n\u001b[0m\u001b[1;32m    114\u001b[0m             \u001b[0;32mreturn\u001b[0m \u001b[0mwrapper\u001b[0m\u001b[0;34m\u001b[0m\u001b[0;34m\u001b[0m\u001b[0m\n\u001b[1;32m    115\u001b[0m \u001b[0;34m\u001b[0m\u001b[0m\n",
            "\u001b[0;32m/usr/local/lib/python3.7/dist-packages/torch/autograd/grad_mode.py\u001b[0m in \u001b[0;36mdecorate_context\u001b[0;34m(*args, **kwargs)\u001b[0m\n\u001b[1;32m     25\u001b[0m         \u001b[0;32mdef\u001b[0m \u001b[0mdecorate_context\u001b[0m\u001b[0;34m(\u001b[0m\u001b[0;34m*\u001b[0m\u001b[0margs\u001b[0m\u001b[0;34m,\u001b[0m \u001b[0;34m**\u001b[0m\u001b[0mkwargs\u001b[0m\u001b[0;34m)\u001b[0m\u001b[0;34m:\u001b[0m\u001b[0;34m\u001b[0m\u001b[0;34m\u001b[0m\u001b[0m\n\u001b[1;32m     26\u001b[0m             \u001b[0;32mwith\u001b[0m \u001b[0mself\u001b[0m\u001b[0;34m.\u001b[0m\u001b[0mclone\u001b[0m\u001b[0;34m(\u001b[0m\u001b[0;34m)\u001b[0m\u001b[0;34m:\u001b[0m\u001b[0;34m\u001b[0m\u001b[0;34m\u001b[0m\u001b[0m\n\u001b[0;32m---> 27\u001b[0;31m                 \u001b[0;32mreturn\u001b[0m \u001b[0mfunc\u001b[0m\u001b[0;34m(\u001b[0m\u001b[0;34m*\u001b[0m\u001b[0margs\u001b[0m\u001b[0;34m,\u001b[0m \u001b[0;34m**\u001b[0m\u001b[0mkwargs\u001b[0m\u001b[0;34m)\u001b[0m\u001b[0;34m\u001b[0m\u001b[0;34m\u001b[0m\u001b[0m\n\u001b[0m\u001b[1;32m     28\u001b[0m         \u001b[0;32mreturn\u001b[0m \u001b[0mcast\u001b[0m\u001b[0;34m(\u001b[0m\u001b[0mF\u001b[0m\u001b[0;34m,\u001b[0m \u001b[0mdecorate_context\u001b[0m\u001b[0;34m)\u001b[0m\u001b[0;34m\u001b[0m\u001b[0;34m\u001b[0m\u001b[0m\n\u001b[1;32m     29\u001b[0m \u001b[0;34m\u001b[0m\u001b[0m\n",
            "\u001b[0;32m/usr/local/lib/python3.7/dist-packages/torch/optim/adamw.py\u001b[0m in \u001b[0;36mstep\u001b[0;34m(self, closure)\u001b[0m\n\u001b[1;32m    173\u001b[0m                   \u001b[0mmaximize\u001b[0m\u001b[0;34m=\u001b[0m\u001b[0mgroup\u001b[0m\u001b[0;34m[\u001b[0m\u001b[0;34m'maximize'\u001b[0m\u001b[0;34m]\u001b[0m\u001b[0;34m,\u001b[0m\u001b[0;34m\u001b[0m\u001b[0;34m\u001b[0m\u001b[0m\n\u001b[1;32m    174\u001b[0m                   \u001b[0mforeach\u001b[0m\u001b[0;34m=\u001b[0m\u001b[0mgroup\u001b[0m\u001b[0;34m[\u001b[0m\u001b[0;34m'foreach'\u001b[0m\u001b[0;34m]\u001b[0m\u001b[0;34m,\u001b[0m\u001b[0;34m\u001b[0m\u001b[0;34m\u001b[0m\u001b[0m\n\u001b[0;32m--> 175\u001b[0;31m                   capturable=group['capturable'])\n\u001b[0m\u001b[1;32m    176\u001b[0m \u001b[0;34m\u001b[0m\u001b[0m\n\u001b[1;32m    177\u001b[0m         \u001b[0;32mreturn\u001b[0m \u001b[0mloss\u001b[0m\u001b[0;34m\u001b[0m\u001b[0;34m\u001b[0m\u001b[0m\n",
            "\u001b[0;32m/usr/local/lib/python3.7/dist-packages/torch/optim/adamw.py\u001b[0m in \u001b[0;36madamw\u001b[0;34m(params, grads, exp_avgs, exp_avg_sqs, max_exp_avg_sqs, state_steps, foreach, capturable, amsgrad, beta1, beta2, lr, weight_decay, eps, maximize)\u001b[0m\n\u001b[1;32m    229\u001b[0m          \u001b[0meps\u001b[0m\u001b[0;34m=\u001b[0m\u001b[0meps\u001b[0m\u001b[0;34m,\u001b[0m\u001b[0;34m\u001b[0m\u001b[0;34m\u001b[0m\u001b[0m\n\u001b[1;32m    230\u001b[0m          \u001b[0mmaximize\u001b[0m\u001b[0;34m=\u001b[0m\u001b[0mmaximize\u001b[0m\u001b[0;34m,\u001b[0m\u001b[0;34m\u001b[0m\u001b[0;34m\u001b[0m\u001b[0m\n\u001b[0;32m--> 231\u001b[0;31m          capturable=capturable)\n\u001b[0m\u001b[1;32m    232\u001b[0m \u001b[0;34m\u001b[0m\u001b[0m\n\u001b[1;32m    233\u001b[0m \u001b[0;34m\u001b[0m\u001b[0m\n",
            "\u001b[0;32m/usr/local/lib/python3.7/dist-packages/torch/optim/adamw.py\u001b[0m in \u001b[0;36m_single_tensor_adamw\u001b[0;34m(params, grads, exp_avgs, exp_avg_sqs, max_exp_avg_sqs, state_steps, amsgrad, beta1, beta2, lr, weight_decay, eps, maximize, capturable)\u001b[0m\n\u001b[1;32m    264\u001b[0m \u001b[0;34m\u001b[0m\u001b[0m\n\u001b[1;32m    265\u001b[0m         \u001b[0;31m# Decay the first and second moment running average coefficient\u001b[0m\u001b[0;34m\u001b[0m\u001b[0;34m\u001b[0m\u001b[0;34m\u001b[0m\u001b[0m\n\u001b[0;32m--> 266\u001b[0;31m         \u001b[0mexp_avg\u001b[0m\u001b[0;34m.\u001b[0m\u001b[0mmul_\u001b[0m\u001b[0;34m(\u001b[0m\u001b[0mbeta1\u001b[0m\u001b[0;34m)\u001b[0m\u001b[0;34m.\u001b[0m\u001b[0madd_\u001b[0m\u001b[0;34m(\u001b[0m\u001b[0mgrad\u001b[0m\u001b[0;34m,\u001b[0m \u001b[0malpha\u001b[0m\u001b[0;34m=\u001b[0m\u001b[0;36m1\u001b[0m \u001b[0;34m-\u001b[0m \u001b[0mbeta1\u001b[0m\u001b[0;34m)\u001b[0m\u001b[0;34m\u001b[0m\u001b[0;34m\u001b[0m\u001b[0m\n\u001b[0m\u001b[1;32m    267\u001b[0m         \u001b[0mexp_avg_sq\u001b[0m\u001b[0;34m.\u001b[0m\u001b[0mmul_\u001b[0m\u001b[0;34m(\u001b[0m\u001b[0mbeta2\u001b[0m\u001b[0;34m)\u001b[0m\u001b[0;34m.\u001b[0m\u001b[0maddcmul_\u001b[0m\u001b[0;34m(\u001b[0m\u001b[0mgrad\u001b[0m\u001b[0;34m,\u001b[0m \u001b[0mgrad\u001b[0m\u001b[0;34m,\u001b[0m \u001b[0mvalue\u001b[0m\u001b[0;34m=\u001b[0m\u001b[0;36m1\u001b[0m \u001b[0;34m-\u001b[0m \u001b[0mbeta2\u001b[0m\u001b[0;34m)\u001b[0m\u001b[0;34m\u001b[0m\u001b[0;34m\u001b[0m\u001b[0m\n\u001b[1;32m    268\u001b[0m \u001b[0;34m\u001b[0m\u001b[0m\n",
            "\u001b[0;31mKeyboardInterrupt\u001b[0m: "
          ]
        }
      ]
    },
    {
      "cell_type": "code",
      "source": [
        "print(train_loss_list)\n",
        "print(test_loss_list)\n",
        "\n",
        "print(train_acc_list)\n",
        "print(test_acc_list)\n",
        "print(lr_list)\n",
        "print(time_list)"
      ],
      "metadata": {
        "colab": {
          "base_uri": "https://localhost:8080/"
        },
        "id": "bZ7pHRvp675x",
        "outputId": "1a305c9b-e687-4325-bb40-0b56147a5ee1"
      },
      "execution_count": null,
      "outputs": [
        {
          "output_type": "stream",
          "name": "stdout",
          "text": [
            "[87274.24717521667, 70427.10583686829, 57847.91020774841, 52248.85096740723, 43923.69031524658, 48939.102880477905, 45604.10953044891, 42197.50939941406, 43673.94547653198, 43743.34078025818, 39945.05134963989, 42043.527691841125, 37468.75533723831, 39735.946846961975, 40693.92558670044, 34067.65771651268, 35798.83839607239, 40563.276683330536, 29797.660234451294, 32320.179008483887, 36132.5338435173, 35936.041783332825, 35515.03500747681, 35106.44253540039, 36462.08275079727, 36550.909786224365, 33734.538846969604, 36038.025488615036, 34942.305377960205, 34498.652070999146, 35314.694118499756, 37061.637996673584, 28444.828571558, 32298.64860010147, 36236.49448776245, 32826.8868227005, 32929.8063583374, 38410.58723449707, 31316.809926986694, 30510.519355773926, 38088.94952964783, 27836.098707437515, 32401.825891017914, 30696.744955062866, 31692.775124549866, 29815.939394831657, 25774.03298187256, 31727.11532020569, 26472.847053527832, 28079.135968208313, 27249.929523468018, 28034.429792404175, 25270.16007041931, 28553.418575286865, 32409.370481312275, 28736.92971944809, 24138.908363819122, 23349.91428422928, 23658.18881237507, 26847.14113855362, 22102.918891608715, 20953.882666826248, 20589.962947160006, 26251.92853498459, 23111.642372742295, 22483.876865029335, 22273.559694573283, 19217.401450037956, 21852.19750583172, 26003.632476571947, 19907.82339001447, 19052.932868003845, 21161.454557061195, 21670.606907367706, 20498.636673318222, 23365.54391860962, 21407.011333465576, 21811.485645532608, 22110.235303401947, 20410.550255417824, 21827.049215685576, 21797.574124097824, 21211.309763789177, 23008.451527237892, 21996.239044189453, 24162.010635607876, 20021.09876513481, 21954.54177320469, 21793.357172966003, 18864.474942088127, 19059.970675945282, 21503.39881205652, 24562.23968374729, 20335.34773624502, 17202.89085006714, 24406.680208325386, 21598.071230414324, 19398.70467376709, 20620.406373381615, 20252.213717341423]\n",
            "[12388.079109191895, 9849.211122512817, 7337.671538352966, 7107.293364524841, 6181.399694442749, 6273.586657524109, 5811.684169769287, 5350.235701560974, 5397.629273414612, 5713.85778427124, 5228.830223083496, 5225.329663276672, 4887.3076248168945, 5447.593012809753, 5150.209627151489, 4820.964131355286, 5218.0694789886475, 4605.76277923584, 6056.337678909302, 4612.569338798523, 6009.377628326416, 5852.550017356873, 4961.852501869202, 5251.475975990295, 6915.288482666016, 6957.020725250244, 5110.686302185059, 5176.3374099731445, 5974.3745975494385, 6755.0646276474, 5121.888784408569, 4604.913379669189, 4866.93061542511, 4805.5688009262085, 5745.352031707764, 5277.745581626892, 4760.2338099479675, 5620.482807159424, 5324.306430339813, 4565.292287826538, 4484.6820340156555, 6008.693676948547, 4959.182747840881, 4277.326066017151, 4626.200782775879, 4849.522369384766, 5049.409538269043, 4582.053117752075, 3964.839051246643, 4410.573993206024, 4070.7232694625854, 3896.9580545425415, 4807.543800354004, 4231.878452301025, 4282.013637542725, 4321.039762020111, 4304.793650150299, 3678.2361302375793, 3978.286198616028, 3352.86305809021, 4955.040382385254, 3253.650938510895, 3219.505570411682, 3767.183765411377, 3886.3762397766113, 4007.182903289795, 3460.4595527648926, 3270.378504753113, 3458.8707575798035, 3112.547911167145, 3070.855347633362, 2899.9124088287354, 3008.161747932434, 2964.0546107292175, 2901.166346549988, 3206.581367492676, 3318.8711352348328, 3108.2490825653076, 2825.141092300415, 2920.4214186668396, 2775.019495010376, 2873.76695728302, 2871.7251019477844, 3013.3223123550415, 2938.766013145447, 2752.173909187317, 2942.2615418434143, 2850.645658969879, 3035.4422340393066, 2795.5677618980408, 2789.4993138313293, 2691.432153701782, 2893.6931071281433, 2783.5512504577637, 2821.601768016815, 3070.3020219802856, 2876.095061779022, 2753.966567993164, 2734.627639770508, 2907.9558329582214]\n",
            "[0.38072, 0.5311, 0.63112, 0.66506, 0.7439, 0.68326, 0.71046, 0.7445, 0.73906, 0.74408, 0.7563, 0.76332, 0.7626, 0.7602, 0.77764, 0.8161, 0.78978, 0.75312, 0.8398, 0.82002, 0.7762, 0.797, 0.80006, 0.78316, 0.81378, 0.79958, 0.81482, 0.78966, 0.80288, 0.79524, 0.79796, 0.77824, 0.86122, 0.79838, 0.80762, 0.81724, 0.81926, 0.76314, 0.81862, 0.83832, 0.77112, 0.84186, 0.81248, 0.83974, 0.80158, 0.82708, 0.83212, 0.82022, 0.84096, 0.84858, 0.85672, 0.86422, 0.86248, 0.84252, 0.81126, 0.84674, 0.88004, 0.87596, 0.8658, 0.86624, 0.88542, 0.89544, 0.89932, 0.86914, 0.87728, 0.87134, 0.87802, 0.89716, 0.87184, 0.8632, 0.88186, 0.89474, 0.87972, 0.8702, 0.88864, 0.8637, 0.88874, 0.89276, 0.86506, 0.86862, 0.85674, 0.8531, 0.85946, 0.86308, 0.89162, 0.8616, 0.892, 0.89646, 0.86496, 0.89936, 0.8993, 0.89824, 0.84312, 0.89124, 0.90556, 0.85268, 0.88814, 0.89402, 0.9096, 0.8628]\n",
            "[0.5551, 0.6512, 0.7488, 0.7578, 0.7894, 0.8038, 0.8101, 0.8196, 0.8261, 0.8352, 0.8288, 0.838, 0.8398, 0.8194, 0.8329, 0.8453, 0.8396, 0.8569, 0.8279, 0.8481, 0.811, 0.815, 0.8454, 0.8251, 0.8045, 0.8029, 0.8482, 0.8313, 0.8256, 0.789, 0.8382, 0.853, 0.8437, 0.8493, 0.8369, 0.8334, 0.8408, 0.8287, 0.8367, 0.8587, 0.857, 0.8134, 0.8455, 0.8692, 0.8618, 0.847, 0.8378, 0.8758, 0.8762, 0.8799, 0.8745, 0.8768, 0.8621, 0.8763, 0.8754, 0.8729, 0.8737, 0.8904, 0.8856, 0.8984, 0.8483, 0.8989, 0.9008, 0.8926, 0.8988, 0.8778, 0.8981, 0.9026, 0.8991, 0.906, 0.9088, 0.9128, 0.9138, 0.9112, 0.9145, 0.9095, 0.9083, 0.9163, 0.9149, 0.9161, 0.9193, 0.9171, 0.9169, 0.9189, 0.9205, 0.9182, 0.9178, 0.9175, 0.9192, 0.9193, 0.9198, 0.9184, 0.9191, 0.9185, 0.921, 0.9195, 0.9202, 0.919, 0.9199, 0.9205]\n",
            "[0.00125, 0.0025, 0.00375, 0.005, 0.00625, 0.0075, 0.00875, 0.01, 0.01125, 0.0125, 0.01375, 0.015, 0.01625, 0.0175, 0.01875, 0.02, 0.02125, 0.0225, 0.02375, 0.025, 0.02625, 0.0275, 0.02875, 0.03, 0.03125, 0.0325, 0.03375, 0.035, 0.03625, 0.0375, 0.03875, 0.04, 0.04125, 0.0425, 0.043750000000000004, 0.045, 0.04625, 0.0475, 0.04875, 0.05, 0.0488125, 0.047625, 0.04643750000000001, 0.045250000000000005, 0.044062500000000004, 0.042875, 0.0416875, 0.0405, 0.0393125, 0.038125000000000006, 0.036937500000000005, 0.035750000000000004, 0.0345625, 0.033375, 0.03218750000000001, 0.031000000000000003, 0.029812500000000002, 0.028625000000000005, 0.027437500000000004, 0.026250000000000002, 0.025062500000000005, 0.023875000000000004, 0.022687500000000003, 0.021500000000000005, 0.020312500000000004, 0.019125000000000003, 0.017937500000000002, 0.01675, 0.015562500000000007, 0.014375000000000006, 0.013187500000000005, 0.012000000000000004, 0.010812500000000003, 0.009625000000000002, 0.0084375, 0.0072500000000000064, 0.006062500000000005, 0.004875000000000004, 0.0036875000000000033, 0.0025, 0.002375, 0.0022500000000000003, 0.002125, 0.002, 0.001875, 0.00175, 0.0016250000000000001, 0.0015, 0.001375, 0.00125, 0.0011250000000000001, 0.001, 0.0008749999999999999, 0.00075, 0.0006250000000000001, 0.0005, 0.0003749999999999999, 0.0002499999999999998, 0.0001250000000000001, 0.0]\n",
            "[27.731231689453125, 20.943665981292725, 23.109753847122192, 21.176030158996582, 21.31616973876953, 21.59420919418335, 21.70853042602539, 21.872567176818848, 22.24554705619812, 22.27457094192505, 22.034427881240845, 21.952656984329224, 22.13692831993103, 22.944366216659546, 22.721709966659546, 22.116429328918457, 22.2741756439209, 22.221914529800415, 22.16668152809143, 22.174163818359375, 22.271883010864258, 22.195453882217407, 22.144704818725586, 22.075953006744385, 21.951109170913696, 22.746660232543945, 21.900772094726562, 21.913146257400513, 22.0060715675354, 21.96296715736389, 21.978477954864502, 22.03914976119995, 21.948248147964478, 21.952094554901123, 21.953850984573364, 21.91384792327881, 22.6355721950531, 21.89645791053772, 21.895825386047363, 21.863348960876465, 21.826027631759644, 21.922129154205322, 21.74145746231079, 21.782326698303223, 21.70868968963623, 21.92837929725647, 21.861931562423706, 22.608449459075928, 21.841477870941162, 21.85162353515625, 21.867294311523438, 21.7831449508667, 21.75298571586609, 21.758795022964478, 21.778238773345947, 21.829342126846313, 21.844521522521973, 21.741352319717407, 21.68015170097351, 22.60907793045044, 21.780537843704224, 21.862408876419067, 21.74485969543457, 21.816943645477295, 21.686108350753784, 21.831701517105103, 21.672897577285767, 21.74293804168701, 21.714386463165283, 21.821788549423218, 22.279903650283813, 21.777657985687256, 21.802485942840576, 21.742162704467773, 21.613940715789795, 21.724381685256958, 21.77840757369995, 21.782464504241943, 21.73808526992798, 21.775187969207764, 21.74784278869629, 21.844193935394287, 22.341787576675415, 21.78251004219055, 21.76808190345764, 22.54579734802246, 21.744341135025024, 21.703693389892578, 21.787489891052246, 21.72335910797119, 21.715196132659912, 21.632944583892822, 21.704980611801147, 22.61412787437439, 21.75121569633484, 22.271856546401978, 21.68092441558838, 21.82888674736023, 21.813058853149414, 21.73801851272583]\n"
          ]
        }
      ]
    },
    {
      "cell_type": "code",
      "source": [
        "plt.title(\"Loss\")\n",
        "plt.xlabel(\"epoch\")\n",
        "plt.ylabel(\"loss\")\n",
        "plt.plot(train_loss_list[:50], '-', label = \"train\")\n",
        "plt.plot(test_loss_list[:50], '--', label = \"test\")\n",
        "plt.legend()\n",
        "plt.savefig('loss.png', dpi=300)"
      ],
      "metadata": {
        "colab": {
          "base_uri": "https://localhost:8080/",
          "height": 295
        },
        "id": "W0dVWQ94fwGf",
        "outputId": "e4d33ac6-d7d1-4059-cd6b-265618792113"
      },
      "execution_count": null,
      "outputs": [
        {
          "output_type": "display_data",
          "data": {
            "text/plain": [
              "<Figure size 432x288 with 1 Axes>"
            ],
            "image/png": "[encoded data removed]"
          },
          "metadata": {
            "needs_background": "light"
          }
        }
      ]
    },
    {
      "cell_type": "code",
      "source": [
        "plt.title(\"Accuracy\")\n",
        "plt.xlabel(\"epcoh\")\n",
        "plt.ylabel(\"acc\")\n",
        "plt.plot(train_acc_list[:50], \"-\", label = \"train\")\n",
        "plt.plot(test_acc_list[:50], \"--\", label = \"test\")\n",
        "plt.legend()\n",
        "plt.savefig('accuracy.png', dpi=300)"
      ],
      "metadata": {
        "colab": {
          "base_uri": "https://localhost:8080/",
          "height": 295
        },
        "id": "CWd_aX7WY1o2",
        "outputId": "5cbf1cbb-fa18-4213-cc86-083c652bde2d"
      },
      "execution_count": null,
      "outputs": [
        {
          "output_type": "display_data",
          "data": {
            "text/plain": [
              "<Figure size 432x288 with 1 Axes>"
            ],
            "image/png": "[encoded data removed]"
          },
          "metadata": {
            "needs_background": "light"
          }
        }
      ]
    },
    {
      "cell_type": "code",
      "source": [
        "plt.title(\"Learning rate\")\n",
        "plt.xlabel(\"epcoh\")\n",
        "plt.ylabel(\"lr\")\n",
        "plt.plot(lr_list)\n",
        "plt.savefig('learningrate.png', dpi=300)"
      ],
      "metadata": {
        "colab": {
          "base_uri": "https://localhost:8080/",
          "height": 295
        },
        "id": "Rzwt8D01hB7M",
        "outputId": "c9191c14-b893-48ab-92df-2e0757573da4"
      },
      "execution_count": null,
      "outputs": [
        {
          "output_type": "display_data",
          "data": {
            "text/plain": [
              "<Figure size 432x288 with 1 Axes>"
            ],
            "image/png": "[encoded data removed]"
          },
          "metadata": {
            "needs_background": "light"
          }
        }
      ]
    },
    {
      "cell_type": "code",
      "source": [
        "sum(time_list) / len(time_list)"
      ],
      "metadata": {
        "colab": {
          "base_uri": "https://localhost:8080/"
        },
        "id": "usLL_l6shHr0",
        "outputId": "5b8173b4-dac9-41b4-c42e-d39d0df1885e"
      },
      "execution_count": null,
      "outputs": [
        {
          "output_type": "execute_result",
          "data": {
            "text/plain": [
              "21.991082777976988"
            ]
          },
          "metadata": {},
          "execution_count": 21
        }
      ]
    },
    {
      "cell_type": "code",
      "source": [],
      "metadata": {
        "colab": {
          "base_uri": "https://localhost:8080/"
        },
        "id": "oiliq_uhgj8H",
        "outputId": "7ec5ac92-6b9c-4902-de88-7ffc1dc7dc55"
      },
      "execution_count": null,
      "outputs": [
        {
          "output_type": "execute_result",
          "data": {
            "text/plain": [
              "(50000, 10000)"
            ]
          },
          "metadata": {},
          "execution_count": 30
        }
      ]
    }
  ]
}