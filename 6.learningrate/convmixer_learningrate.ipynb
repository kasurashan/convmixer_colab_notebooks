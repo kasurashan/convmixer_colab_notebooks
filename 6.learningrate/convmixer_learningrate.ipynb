{
  "nbformat": 4,
  "nbformat_minor": 0,
  "metadata": {
    "colab": {
      "provenance": [],
      "collapsed_sections": []
    },
    "kernelspec": {
      "name": "python3",
      "display_name": "Python 3"
    },
    "language_info": {
      "name": "python"
    },
    "accelerator": "GPU",
    "gpuClass": "standard",
    "widgets": {
      "application/vnd.jupyter.widget-state+json": {
        "cc9d8d7cdb324452a58d97108959db02": {
          "model_module": "@jupyter-widgets/controls",
          "model_name": "HBoxModel",
          "model_module_version": "1.5.0",
          "state": {
            "_dom_classes": [],
            "_model_module": "@jupyter-widgets/controls",
            "_model_module_version": "1.5.0",
            "_model_name": "HBoxModel",
            "_view_count": null,
            "_view_module": "@jupyter-widgets/controls",
            "_view_module_version": "1.5.0",
            "_view_name": "HBoxView",
            "box_style": "",
            "children": [
              "IPY_MODEL_f0e49454d7ce4f2681220f06903d7abb",
              "IPY_MODEL_a3300baacbb540e19d7bb9dcb6e3189f",
              "IPY_MODEL_e61ea6d4d7234b87956794f0501bc67d"
            ],
            "layout": "IPY_MODEL_9a66029a0be4409da6c87fda98ae13ec"
          }
        },
        "f0e49454d7ce4f2681220f06903d7abb": {
          "model_module": "@jupyter-widgets/controls",
          "model_name": "HTMLModel",
          "model_module_version": "1.5.0",
          "state": {
            "_dom_classes": [],
            "_model_module": "@jupyter-widgets/controls",
            "_model_module_version": "1.5.0",
            "_model_name": "HTMLModel",
            "_view_count": null,
            "_view_module": "@jupyter-widgets/controls",
            "_view_module_version": "1.5.0",
            "_view_name": "HTMLView",
            "description": "",
            "description_tooltip": null,
            "layout": "IPY_MODEL_6ba1d57d42d041c282b770aa0f27d054",
            "placeholder": "​",
            "style": "IPY_MODEL_8cf98507e7614ad8850a827e79e0b84d",
            "value": "100%"
          }
        },
        "a3300baacbb540e19d7bb9dcb6e3189f": {
          "model_module": "@jupyter-widgets/controls",
          "model_name": "FloatProgressModel",
          "model_module_version": "1.5.0",
          "state": {
            "_dom_classes": [],
            "_model_module": "@jupyter-widgets/controls",
            "_model_module_version": "1.5.0",
            "_model_name": "FloatProgressModel",
            "_view_count": null,
            "_view_module": "@jupyter-widgets/controls",
            "_view_module_version": "1.5.0",
            "_view_name": "ProgressView",
            "bar_style": "success",
            "description": "",
            "description_tooltip": null,
            "layout": "IPY_MODEL_1b59449bfee14206a2d93c3434791dee",
            "max": 170498071,
            "min": 0,
            "orientation": "horizontal",
            "style": "IPY_MODEL_d05100b8ccac4e289b9e60f3b450aecb",
            "value": 170498071
          }
        },
        "e61ea6d4d7234b87956794f0501bc67d": {
          "model_module": "@jupyter-widgets/controls",
          "model_name": "HTMLModel",
          "model_module_version": "1.5.0",
          "state": {
            "_dom_classes": [],
            "_model_module": "@jupyter-widgets/controls",
            "_model_module_version": "1.5.0",
            "_model_name": "HTMLModel",
            "_view_count": null,
            "_view_module": "@jupyter-widgets/controls",
            "_view_module_version": "1.5.0",
            "_view_name": "HTMLView",
            "description": "",
            "description_tooltip": null,
            "layout": "IPY_MODEL_c0ea8ebbde814261ac750b15ae8f5ece",
            "placeholder": "​",
            "style": "IPY_MODEL_3386c31a172b45aa9ea8e8a0813fa64f",
            "value": " 170498071/170498071 [00:13&lt;00:00, 12725679.79it/s]"
          }
        },
        "9a66029a0be4409da6c87fda98ae13ec": {
          "model_module": "@jupyter-widgets/base",
          "model_name": "LayoutModel",
          "model_module_version": "1.2.0",
          "state": {
            "_model_module": "@jupyter-widgets/base",
            "_model_module_version": "1.2.0",
            "_model_name": "LayoutModel",
            "_view_count": null,
            "_view_module": "@jupyter-widgets/base",
            "_view_module_version": "1.2.0",
            "_view_name": "LayoutView",
            "align_content": null,
            "align_items": null,
            "align_self": null,
            "border": null,
            "bottom": null,
            "display": null,
            "flex": null,
            "flex_flow": null,
            "grid_area": null,
            "grid_auto_columns": null,
            "grid_auto_flow": null,
            "grid_auto_rows": null,
            "grid_column": null,
            "grid_gap": null,
            "grid_row": null,
            "grid_template_areas": null,
            "grid_template_columns": null,
            "grid_template_rows": null,
            "height": null,
            "justify_content": null,
            "justify_items": null,
            "left": null,
            "margin": null,
            "max_height": null,
            "max_width": null,
            "min_height": null,
            "min_width": null,
            "object_fit": null,
            "object_position": null,
            "order": null,
            "overflow": null,
            "overflow_x": null,
            "overflow_y": null,
            "padding": null,
            "right": null,
            "top": null,
            "visibility": null,
            "width": null
          }
        },
        "6ba1d57d42d041c282b770aa0f27d054": {
          "model_module": "@jupyter-widgets/base",
          "model_name": "LayoutModel",
          "model_module_version": "1.2.0",
          "state": {
            "_model_module": "@jupyter-widgets/base",
            "_model_module_version": "1.2.0",
            "_model_name": "LayoutModel",
            "_view_count": null,
            "_view_module": "@jupyter-widgets/base",
            "_view_module_version": "1.2.0",
            "_view_name": "LayoutView",
            "align_content": null,
            "align_items": null,
            "align_self": null,
            "border": null,
            "bottom": null,
            "display": null,
            "flex": null,
            "flex_flow": null,
            "grid_area": null,
            "grid_auto_columns": null,
            "grid_auto_flow": null,
            "grid_auto_rows": null,
            "grid_column": null,
            "grid_gap": null,
            "grid_row": null,
            "grid_template_areas": null,
            "grid_template_columns": null,
            "grid_template_rows": null,
            "height": null,
            "justify_content": null,
            "justify_items": null,
            "left": null,
            "margin": null,
            "max_height": null,
            "max_width": null,
            "min_height": null,
            "min_width": null,
            "object_fit": null,
            "object_position": null,
            "order": null,
            "overflow": null,
            "overflow_x": null,
            "overflow_y": null,
            "padding": null,
            "right": null,
            "top": null,
            "visibility": null,
            "width": null
          }
        },
        "8cf98507e7614ad8850a827e79e0b84d": {
          "model_module": "@jupyter-widgets/controls",
          "model_name": "DescriptionStyleModel",
          "model_module_version": "1.5.0",
          "state": {
            "_model_module": "@jupyter-widgets/controls",
            "_model_module_version": "1.5.0",
            "_model_name": "DescriptionStyleModel",
            "_view_count": null,
            "_view_module": "@jupyter-widgets/base",
            "_view_module_version": "1.2.0",
            "_view_name": "StyleView",
            "description_width": ""
          }
        },
        "1b59449bfee14206a2d93c3434791dee": {
          "model_module": "@jupyter-widgets/base",
          "model_name": "LayoutModel",
          "model_module_version": "1.2.0",
          "state": {
            "_model_module": "@jupyter-widgets/base",
            "_model_module_version": "1.2.0",
            "_model_name": "LayoutModel",
            "_view_count": null,
            "_view_module": "@jupyter-widgets/base",
            "_view_module_version": "1.2.0",
            "_view_name": "LayoutView",
            "align_content": null,
            "align_items": null,
            "align_self": null,
            "border": null,
            "bottom": null,
            "display": null,
            "flex": null,
            "flex_flow": null,
            "grid_area": null,
            "grid_auto_columns": null,
            "grid_auto_flow": null,
            "grid_auto_rows": null,
            "grid_column": null,
            "grid_gap": null,
            "grid_row": null,
            "grid_template_areas": null,
            "grid_template_columns": null,
            "grid_template_rows": null,
            "height": null,
            "justify_content": null,
            "justify_items": null,
            "left": null,
            "margin": null,
            "max_height": null,
            "max_width": null,
            "min_height": null,
            "min_width": null,
            "object_fit": null,
            "object_position": null,
            "order": null,
            "overflow": null,
            "overflow_x": null,
            "overflow_y": null,
            "padding": null,
            "right": null,
            "top": null,
            "visibility": null,
            "width": null
          }
        },
        "d05100b8ccac4e289b9e60f3b450aecb": {
          "model_module": "@jupyter-widgets/controls",
          "model_name": "ProgressStyleModel",
          "model_module_version": "1.5.0",
          "state": {
            "_model_module": "@jupyter-widgets/controls",
            "_model_module_version": "1.5.0",
            "_model_name": "ProgressStyleModel",
            "_view_count": null,
            "_view_module": "@jupyter-widgets/base",
            "_view_module_version": "1.2.0",
            "_view_name": "StyleView",
            "bar_color": null,
            "description_width": ""
          }
        },
        "c0ea8ebbde814261ac750b15ae8f5ece": {
          "model_module": "@jupyter-widgets/base",
          "model_name": "LayoutModel",
          "model_module_version": "1.2.0",
          "state": {
            "_model_module": "@jupyter-widgets/base",
            "_model_module_version": "1.2.0",
            "_model_name": "LayoutModel",
            "_view_count": null,
            "_view_module": "@jupyter-widgets/base",
            "_view_module_version": "1.2.0",
            "_view_name": "LayoutView",
            "align_content": null,
            "align_items": null,
            "align_self": null,
            "border": null,
            "bottom": null,
            "display": null,
            "flex": null,
            "flex_flow": null,
            "grid_area": null,
            "grid_auto_columns": null,
            "grid_auto_flow": null,
            "grid_auto_rows": null,
            "grid_column": null,
            "grid_gap": null,
            "grid_row": null,
            "grid_template_areas": null,
            "grid_template_columns": null,
            "grid_template_rows": null,
            "height": null,
            "justify_content": null,
            "justify_items": null,
            "left": null,
            "margin": null,
            "max_height": null,
            "max_width": null,
            "min_height": null,
            "min_width": null,
            "object_fit": null,
            "object_position": null,
            "order": null,
            "overflow": null,
            "overflow_x": null,
            "overflow_y": null,
            "padding": null,
            "right": null,
            "top": null,
            "visibility": null,
            "width": null
          }
        },
        "3386c31a172b45aa9ea8e8a0813fa64f": {
          "model_module": "@jupyter-widgets/controls",
          "model_name": "DescriptionStyleModel",
          "model_module_version": "1.5.0",
          "state": {
            "_model_module": "@jupyter-widgets/controls",
            "_model_module_version": "1.5.0",
            "_model_name": "DescriptionStyleModel",
            "_view_count": null,
            "_view_module": "@jupyter-widgets/base",
            "_view_module_version": "1.2.0",
            "_view_name": "StyleView",
            "description_width": ""
          }
        }
      }
    }
  },
  "cells": [
    {
      "cell_type": "code",
      "execution_count": 1,
      "metadata": {
        "id": "2l8WC0A01Jge"
      },
      "outputs": [],
      "source": [
        "import torch\n",
        "import torch.nn as nn\n",
        "import torch.optim as optim\n",
        "import torchvision\n",
        "import torchvision.transforms as transforms\n",
        "import numpy as np\n",
        "import time\n",
        "import argparse\n",
        "from tqdm import tqdm\n",
        "import matplotlib.pyplot as plt"
      ]
    },
    {
      "cell_type": "code",
      "source": [
        "args = argparse.Namespace(name = \"ConvMixer\", \n",
        "                          batch_size = 512,\n",
        "                          scale = 0.75,\n",
        "                          reprob = 0.25,\n",
        "                          ra_m = 8,\n",
        "                          ra_n = 1,\n",
        "                          jitter = 0.1,\n",
        "                          hdim = 256,\n",
        "                          depth = 8,\n",
        "                          psize = 2,\n",
        "                          conv_ks = 5,\n",
        "                          wd = 0.005,\n",
        "                          clip_norm = 'store_true',\n",
        "                          epochs = 50,\n",
        "                          lr_max = 0.05,\n",
        "                          workers = 2)"
      ],
      "metadata": {
        "id": "r-W5IvuS1OmN"
      },
      "execution_count": 2,
      "outputs": []
    },
    {
      "cell_type": "code",
      "source": [
        "class Residual(nn.Module):\n",
        "    def __init__(self, fn):\n",
        "        super().__init__()\n",
        "        self.fn = fn\n",
        "\n",
        "    def forward(self, x):\n",
        "        return self.fn(x) + x"
      ],
      "metadata": {
        "id": "MJdcXkM11P9s"
      },
      "execution_count": 3,
      "outputs": []
    },
    {
      "cell_type": "code",
      "source": [
        "def ConvMixer(dim, depth, kernel_size=5, patch_size=2, n_classes=10):\n",
        "    return nn.Sequential(\n",
        "        nn.Conv2d(3, dim, kernel_size=patch_size, stride=patch_size),\n",
        "        nn.GELU(),\n",
        "        nn.BatchNorm2d(dim),\n",
        "        *[nn.Sequential(\n",
        "                Residual(nn.Sequential(\n",
        "                    nn.Conv2d(dim, dim, kernel_size, groups=dim, padding=\"same\"),\n",
        "                    nn.GELU(),\n",
        "                    nn.BatchNorm2d(dim)\n",
        "                )),\n",
        "                nn.Conv2d(dim, dim, kernel_size=1),\n",
        "                nn.GELU(),\n",
        "                nn.BatchNorm2d(dim)\n",
        "        ) for i in range(depth)],\n",
        "        nn.AdaptiveAvgPool2d((1,1)),\n",
        "        nn.Flatten(),\n",
        "        nn.Linear(dim, n_classes)\n",
        "    )"
      ],
      "metadata": {
        "id": "IZy8g4_o1SQ0"
      },
      "execution_count": 4,
      "outputs": []
    },
    {
      "cell_type": "code",
      "source": [
        "cifar10_mean = (0.4914, 0.4822, 0.4465)\n",
        "cifar10_std = (0.2471, 0.2435, 0.2616)"
      ],
      "metadata": {
        "id": "RUEurQXS1Tw6"
      },
      "execution_count": 5,
      "outputs": []
    },
    {
      "cell_type": "code",
      "source": [
        "# augmentation 포함된 변환\n",
        "train_transform = transforms.Compose([\n",
        "    transforms.RandomResizedCrop(32, scale=(args.scale, 1.0), ratio=(1.0, 1.0)),\n",
        "    transforms.RandomHorizontalFlip(p=0.5),\n",
        "    transforms.RandAugment(num_ops=args.ra_n, magnitude=args.ra_m),\n",
        "    transforms.ColorJitter(args.jitter, args.jitter, args.jitter),\n",
        "    transforms.ToTensor(),\n",
        "    transforms.Normalize(cifar10_mean, cifar10_std),\n",
        "    transforms.RandomErasing(p=args.reprob)\n",
        "])\n",
        "\n",
        "test_transform = transforms.Compose([\n",
        "    transforms.ToTensor(),\n",
        "    transforms.Normalize(cifar10_mean, cifar10_std)\n",
        "])"
      ],
      "metadata": {
        "id": "ekFfSFFm1UaJ"
      },
      "execution_count": null,
      "outputs": []
    },
    {
      "cell_type": "code",
      "source": [
        "# augmentation 제외\n",
        "train_transform = transforms.Compose([\n",
        "    #transforms.RandomResizedCrop(32, scale=(args.scale, 1.0), ratio=(1.0, 1.0)),\n",
        "    #transforms.RandomHorizontalFlip(p=0.5),\n",
        "    #transforms.RandAugment(num_ops=args.ra_n, magnitude=args.ra_m),\n",
        "    #transforms.ColorJitter(args.jitter, args.jitter, args.jitter),\n",
        "    transforms.ToTensor(),\n",
        "    transforms.Normalize(cifar10_mean, cifar10_std)\n",
        "    #transforms.RandomErasing(p=args.reprob)\n",
        "])\n",
        "\n",
        "test_transform = transforms.Compose([\n",
        "    transforms.ToTensor(),\n",
        "    transforms.Normalize(cifar10_mean, cifar10_std)\n",
        "])"
      ],
      "metadata": {
        "id": "zsOIPewSSiI5"
      },
      "execution_count": 6,
      "outputs": []
    },
    {
      "cell_type": "code",
      "source": [
        "trainset = torchvision.datasets.CIFAR10(root='./data', train=True,\n",
        "                                        download=True, transform=train_transform)\n",
        "trainloader = torch.utils.data.DataLoader(trainset, batch_size=args.batch_size,\n",
        "                                          shuffle=True, num_workers=args.workers)\n",
        "\n",
        "testset = torchvision.datasets.CIFAR10(root='./data', train=False,\n",
        "                                       download=True, transform=test_transform)\n",
        "testloader = torch.utils.data.DataLoader(testset, batch_size=args.batch_size,\n",
        "                                         shuffle=False, num_workers=args.workers)"
      ],
      "metadata": {
        "colab": {
          "base_uri": "https://localhost:8080/",
          "height": 104,
          "referenced_widgets": [
            "cc9d8d7cdb324452a58d97108959db02",
            "f0e49454d7ce4f2681220f06903d7abb",
            "a3300baacbb540e19d7bb9dcb6e3189f",
            "e61ea6d4d7234b87956794f0501bc67d",
            "9a66029a0be4409da6c87fda98ae13ec",
            "6ba1d57d42d041c282b770aa0f27d054",
            "8cf98507e7614ad8850a827e79e0b84d",
            "1b59449bfee14206a2d93c3434791dee",
            "d05100b8ccac4e289b9e60f3b450aecb",
            "c0ea8ebbde814261ac750b15ae8f5ece",
            "3386c31a172b45aa9ea8e8a0813fa64f"
          ]
        },
        "id": "Qli6e-PE1V7t",
        "outputId": "597350dc-0080-41ce-f20e-d4df488b0004"
      },
      "execution_count": 7,
      "outputs": [
        {
          "output_type": "stream",
          "name": "stdout",
          "text": [
            "Downloading https://www.cs.toronto.edu/~kriz/cifar-10-python.tar.gz to ./data/cifar-10-python.tar.gz\n"
          ]
        },
        {
          "output_type": "display_data",
          "data": {
            "text/plain": [
              "  0%|          | 0/170498071 [00:00<?, ?it/s]"
            ],
            "application/vnd.jupyter.widget-view+json": {
              "version_major": 2,
              "version_minor": 0,
              "model_id": "cc9d8d7cdb324452a58d97108959db02"
            }
          },
          "metadata": {}
        },
        {
          "output_type": "stream",
          "name": "stdout",
          "text": [
            "Extracting ./data/cifar-10-python.tar.gz to ./data\n",
            "Files already downloaded and verified\n"
          ]
        }
      ]
    },
    {
      "cell_type": "code",
      "source": [
        "len(trainloader)   # batch수"
      ],
      "metadata": {
        "colab": {
          "base_uri": "https://localhost:8080/"
        },
        "id": "AuhmRrd12MMn",
        "outputId": "5a96b4ee-1dd6-43bd-f6b2-eabe2cca6250"
      },
      "execution_count": null,
      "outputs": [
        {
          "output_type": "execute_result",
          "data": {
            "text/plain": [
              "98"
            ]
          },
          "metadata": {},
          "execution_count": 21
        }
      ]
    },
    {
      "cell_type": "code",
      "source": [
        "model = ConvMixer(args.hdim, args.depth, patch_size=args.psize, kernel_size=args.conv_ks, n_classes=10)\n",
        "model = nn.DataParallel(model).cuda()"
      ],
      "metadata": {
        "id": "Y_LhjunM1XM0"
      },
      "execution_count": 17,
      "outputs": []
    },
    {
      "cell_type": "code",
      "source": [
        "lr_schedule = lambda t: np.interp([t], [0, args.epochs*2//5, args.epochs*4//5, args.epochs], \n",
        "                                  [0, args.lr_max, args.lr_max/20.0, 0])[0]\n",
        "\n",
        "opt = optim.AdamW(model.parameters(), lr=args.lr_max, weight_decay=args.wd)\n",
        "criterion = nn.CrossEntropyLoss()\n",
        "scaler = torch.cuda.amp.GradScaler()"
      ],
      "metadata": {
        "id": "PaKVSHFU1Ytw"
      },
      "execution_count": 13,
      "outputs": []
    },
    {
      "cell_type": "code",
      "source": [
        "np.interp([t], [0, len(trainloader)*5 ], [0, args.lr_max])[0]"
      ],
      "metadata": {
        "id": "OAufz7Xq4TYN"
      },
      "execution_count": null,
      "outputs": []
    },
    {
      "cell_type": "code",
      "source": [
        "warm = 5\n",
        "lr_schedule = lambda t: np.interp([t], [0, len(trainloader)*warm ], [0, args.lr_max])[0] if t < len(trainloader)*warm  else 0.5 * (1 + np.cos((t-len(trainloader)*warm) * np.pi / (len(trainloader)*(args.epochs-warm)) )) * args.lr_max\n",
        "\n",
        "opt = optim.AdamW(model.parameters(), lr=args.lr_max, weight_decay=args.wd)\n",
        "criterion = nn.CrossEntropyLoss()\n",
        "scaler = torch.cuda.amp.GradScaler()"
      ],
      "metadata": {
        "id": "_wkgDBnF1KuS"
      },
      "execution_count": 21,
      "outputs": []
    },
    {
      "cell_type": "code",
      "source": [
        "print(lr_schedule(20*50))"
      ],
      "metadata": {
        "colab": {
          "base_uri": "https://localhost:8080/"
        },
        "id": "UJ57xhIDmYfE",
        "outputId": "d3540067-dbea-4223-84c1-904a02e7c21c"
      },
      "execution_count": 29,
      "outputs": [
        {
          "output_type": "stream",
          "name": "stdout",
          "text": [
            "0.04836811125267078\n"
          ]
        }
      ]
    },
    {
      "cell_type": "code",
      "source": [
        "train_loss_list = []\n",
        "test_loss_list = []\n",
        "\n",
        "train_acc_list = []\n",
        "test_acc_list = []\n",
        "\n",
        "lr_list = []\n",
        "time_list = []"
      ],
      "metadata": {
        "id": "lYcxJrfwGoVg"
      },
      "execution_count": 19,
      "outputs": []
    },
    {
      "cell_type": "code",
      "source": [
        "# train & test\n",
        "cnt = 0 ######################################################\n",
        "\n",
        "for epoch in tqdm(range(args.epochs)):\n",
        "    start = time.time()\n",
        "    train_loss, train_acc, n = 0, 0, 0\n",
        "    test_loss = 0 ##################################\n",
        "\n",
        "    for i, (X, y) in enumerate(trainloader):\n",
        "\n",
        "        cnt += 1 ###################################\n",
        "\n",
        "        model.train()\n",
        "        X, y = X.cuda(), y.cuda()\n",
        "\n",
        "        #lr = lr_schedule(epoch + (i + 1)/len(trainloader))\n",
        "        lr = lr_schedule(cnt)\n",
        "        opt.param_groups[0].update(lr=lr)\n",
        "\n",
        "        opt.zero_grad()\n",
        "        with torch.cuda.amp.autocast():\n",
        "            output = model(X)\n",
        "            loss = criterion(output, y)\n",
        "\n",
        "        scaler.scale(loss).backward()\n",
        "        if args.clip_norm:\n",
        "            scaler.unscale_(opt)\n",
        "            nn.utils.clip_grad_norm_(model.parameters(), 1.0)\n",
        "        scaler.step(opt)\n",
        "        scaler.update()\n",
        "        \n",
        "        train_loss += loss.item() * y.size(0)\n",
        "        train_acc += (output.max(1)[1] == y).sum().item()\n",
        "        n += y.size(0)\n",
        "\n",
        "\n",
        "        \n",
        "    model.eval()\n",
        "    test_acc, m = 0, 0\n",
        "    with torch.no_grad():\n",
        "        for i, (X, y) in enumerate(testloader):\n",
        "            X, y = X.cuda(), y.cuda()\n",
        "            with torch.cuda.amp.autocast():\n",
        "                output = model(X)\n",
        "                test_loss_tmp = criterion(output, y) ###################\n",
        "\n",
        "\n",
        "            test_loss += test_loss_tmp.item() * y.size(0) ##############\n",
        "\n",
        "            test_acc += (output.max(1)[1] == y).sum().item()\n",
        "            m += y.size(0)\n",
        "\n",
        "\n",
        "    train_loss_list.append(train_loss)\n",
        "    test_loss_list.append(test_loss)\n",
        "    train_acc_list.append(train_acc/n)    \n",
        "    test_acc_list.append(test_acc/m)\n",
        "    lr_list.append(lr)\n",
        "    time_list.append(time.time() - start)\n",
        "\n",
        "    print(f'[{args.name}] Epoch: {epoch} | Train Acc: {train_acc/n:.4f}, Test Acc: {test_acc/m:.4f}, Time: {time.time() - start:.1f}, lr: {lr:.6f}')"
      ],
      "metadata": {
        "colab": {
          "base_uri": "https://localhost:8080/"
        },
        "id": "ag_QWarZ1eLM",
        "outputId": "ba8f6f7d-a561-4ba7-c9a1-cde69d07ab5c"
      },
      "execution_count": 30,
      "outputs": [
        {
          "output_type": "stream",
          "name": "stderr",
          "text": [
            "  2%|▏         | 1/50 [00:27<22:45, 27.87s/it]"
          ]
        },
        {
          "output_type": "stream",
          "name": "stdout",
          "text": [
            "[ConvMixer] Epoch: 0 | Train Acc: 0.5075, Test Acc: 0.4872, Time: 27.9, lr: 0.010000\n"
          ]
        },
        {
          "output_type": "stream",
          "name": "stderr",
          "text": [
            "\r  4%|▍         | 2/50 [00:48<19:00, 23.76s/it]"
          ]
        },
        {
          "output_type": "stream",
          "name": "stdout",
          "text": [
            "[ConvMixer] Epoch: 1 | Train Acc: 0.7093, Test Acc: 0.6811, Time: 20.9, lr: 0.020000\n"
          ]
        },
        {
          "output_type": "stream",
          "name": "stderr",
          "text": [
            "\r  6%|▌         | 3/50 [01:11<18:11, 23.22s/it]"
          ]
        },
        {
          "output_type": "stream",
          "name": "stdout",
          "text": [
            "[ConvMixer] Epoch: 2 | Train Acc: 0.7794, Test Acc: 0.6947, Time: 22.6, lr: 0.030000\n"
          ]
        },
        {
          "output_type": "stream",
          "name": "stderr",
          "text": [
            "\r  8%|▊         | 4/50 [01:32<17:10, 22.41s/it]"
          ]
        },
        {
          "output_type": "stream",
          "name": "stdout",
          "text": [
            "[ConvMixer] Epoch: 3 | Train Acc: 0.8070, Test Acc: 0.6969, Time: 21.2, lr: 0.040000\n"
          ]
        },
        {
          "output_type": "stream",
          "name": "stderr",
          "text": [
            "\r 10%|█         | 5/50 [01:54<16:36, 22.14s/it]"
          ]
        },
        {
          "output_type": "stream",
          "name": "stdout",
          "text": [
            "[ConvMixer] Epoch: 4 | Train Acc: 0.8292, Test Acc: 0.7545, Time: 21.7, lr: 0.050000\n"
          ]
        },
        {
          "output_type": "stream",
          "name": "stderr",
          "text": [
            "\r 12%|█▏        | 6/50 [02:15<16:03, 21.89s/it]"
          ]
        },
        {
          "output_type": "stream",
          "name": "stdout",
          "text": [
            "[ConvMixer] Epoch: 5 | Train Acc: 0.8477, Test Acc: 0.7819, Time: 21.4, lr: 0.049939\n"
          ]
        },
        {
          "output_type": "stream",
          "name": "stderr",
          "text": [
            "\r 14%|█▍        | 7/50 [02:36<15:34, 21.73s/it]"
          ]
        },
        {
          "output_type": "stream",
          "name": "stdout",
          "text": [
            "[ConvMixer] Epoch: 6 | Train Acc: 0.8737, Test Acc: 0.7967, Time: 21.4, lr: 0.049757\n"
          ]
        },
        {
          "output_type": "stream",
          "name": "stderr",
          "text": [
            "\r 16%|█▌        | 8/50 [02:59<15:16, 21.83s/it]"
          ]
        },
        {
          "output_type": "stream",
          "name": "stdout",
          "text": [
            "[ConvMixer] Epoch: 7 | Train Acc: 0.8852, Test Acc: 0.7870, Time: 22.1, lr: 0.049454\n"
          ]
        },
        {
          "output_type": "stream",
          "name": "stderr",
          "text": [
            "\r 18%|█▊        | 9/50 [03:20<14:51, 21.74s/it]"
          ]
        },
        {
          "output_type": "stream",
          "name": "stdout",
          "text": [
            "[ConvMixer] Epoch: 8 | Train Acc: 0.9060, Test Acc: 0.7878, Time: 21.5, lr: 0.049032\n"
          ]
        },
        {
          "output_type": "stream",
          "name": "stderr",
          "text": [
            "\r 20%|██        | 10/50 [03:42<14:34, 21.86s/it]"
          ]
        },
        {
          "output_type": "stream",
          "name": "stdout",
          "text": [
            "[ConvMixer] Epoch: 9 | Train Acc: 0.9104, Test Acc: 0.7733, Time: 22.1, lr: 0.048492\n"
          ]
        },
        {
          "output_type": "stream",
          "name": "stderr",
          "text": [
            "\r 22%|██▏       | 11/50 [04:04<14:09, 21.78s/it]"
          ]
        },
        {
          "output_type": "stream",
          "name": "stdout",
          "text": [
            "[ConvMixer] Epoch: 10 | Train Acc: 0.9169, Test Acc: 0.7994, Time: 21.6, lr: 0.047839\n"
          ]
        },
        {
          "output_type": "stream",
          "name": "stderr",
          "text": [
            "\r 24%|██▍       | 12/50 [04:25<13:43, 21.68s/it]"
          ]
        },
        {
          "output_type": "stream",
          "name": "stdout",
          "text": [
            "[ConvMixer] Epoch: 11 | Train Acc: 0.9239, Test Acc: 0.8181, Time: 21.4, lr: 0.047074\n"
          ]
        },
        {
          "output_type": "stream",
          "name": "stderr",
          "text": [
            "\r 26%|██▌       | 13/50 [04:47<13:25, 21.77s/it]"
          ]
        },
        {
          "output_type": "stream",
          "name": "stdout",
          "text": [
            "[ConvMixer] Epoch: 12 | Train Acc: 0.9383, Test Acc: 0.8098, Time: 22.0, lr: 0.046201\n"
          ]
        },
        {
          "output_type": "stream",
          "name": "stderr",
          "text": [
            "\r 28%|██▊       | 14/50 [05:09<13:01, 21.71s/it]"
          ]
        },
        {
          "output_type": "stream",
          "name": "stdout",
          "text": [
            "[ConvMixer] Epoch: 13 | Train Acc: 0.9391, Test Acc: 0.7993, Time: 21.5, lr: 0.045225\n"
          ]
        },
        {
          "output_type": "stream",
          "name": "stderr",
          "text": [
            "\r 30%|███       | 15/50 [05:31<12:45, 21.87s/it]"
          ]
        },
        {
          "output_type": "stream",
          "name": "stdout",
          "text": [
            "[ConvMixer] Epoch: 14 | Train Acc: 0.9460, Test Acc: 0.8111, Time: 22.2, lr: 0.044151\n"
          ]
        },
        {
          "output_type": "stream",
          "name": "stderr",
          "text": [
            "\r 32%|███▏      | 16/50 [05:53<12:24, 21.90s/it]"
          ]
        },
        {
          "output_type": "stream",
          "name": "stdout",
          "text": [
            "[ConvMixer] Epoch: 15 | Train Acc: 0.9535, Test Acc: 0.8257, Time: 22.0, lr: 0.042983\n"
          ]
        },
        {
          "output_type": "stream",
          "name": "stderr",
          "text": [
            "\r 34%|███▍      | 17/50 [06:15<11:59, 21.79s/it]"
          ]
        },
        {
          "output_type": "stream",
          "name": "stdout",
          "text": [
            "[ConvMixer] Epoch: 16 | Train Acc: 0.9575, Test Acc: 0.8063, Time: 21.5, lr: 0.041728\n"
          ]
        },
        {
          "output_type": "stream",
          "name": "stderr",
          "text": [
            "\r 36%|███▌      | 18/50 [06:36<11:37, 21.79s/it]"
          ]
        },
        {
          "output_type": "stream",
          "name": "stdout",
          "text": [
            "[ConvMixer] Epoch: 17 | Train Acc: 0.9587, Test Acc: 0.8255, Time: 21.8, lr: 0.040392\n"
          ]
        },
        {
          "output_type": "stream",
          "name": "stderr",
          "text": [
            "\r 38%|███▊      | 19/50 [06:58<11:11, 21.65s/it]"
          ]
        },
        {
          "output_type": "stream",
          "name": "stdout",
          "text": [
            "[ConvMixer] Epoch: 18 | Train Acc: 0.9647, Test Acc: 0.8135, Time: 21.3, lr: 0.038980\n"
          ]
        },
        {
          "output_type": "stream",
          "name": "stderr",
          "text": [
            "\r 40%|████      | 20/50 [07:19<10:46, 21.55s/it]"
          ]
        },
        {
          "output_type": "stream",
          "name": "stdout",
          "text": [
            "[ConvMixer] Epoch: 19 | Train Acc: 0.9681, Test Acc: 0.8187, Time: 21.3, lr: 0.037500\n"
          ]
        },
        {
          "output_type": "stream",
          "name": "stderr",
          "text": [
            "\r 42%|████▏     | 21/50 [07:41<10:27, 21.63s/it]"
          ]
        },
        {
          "output_type": "stream",
          "name": "stdout",
          "text": [
            "[ConvMixer] Epoch: 20 | Train Acc: 0.9698, Test Acc: 0.8525, Time: 21.8, lr: 0.035959\n"
          ]
        },
        {
          "output_type": "stream",
          "name": "stderr",
          "text": [
            "\r 44%|████▍     | 22/50 [08:02<10:03, 21.54s/it]"
          ]
        },
        {
          "output_type": "stream",
          "name": "stdout",
          "text": [
            "[ConvMixer] Epoch: 21 | Train Acc: 0.9749, Test Acc: 0.8455, Time: 21.3, lr: 0.034365\n"
          ]
        },
        {
          "output_type": "stream",
          "name": "stderr",
          "text": [
            "\r 46%|████▌     | 23/50 [08:24<09:42, 21.58s/it]"
          ]
        },
        {
          "output_type": "stream",
          "name": "stdout",
          "text": [
            "[ConvMixer] Epoch: 22 | Train Acc: 0.9762, Test Acc: 0.8496, Time: 21.7, lr: 0.032725\n"
          ]
        },
        {
          "output_type": "stream",
          "name": "stderr",
          "text": [
            "\r 48%|████▊     | 24/50 [08:45<09:19, 21.51s/it]"
          ]
        },
        {
          "output_type": "stream",
          "name": "stdout",
          "text": [
            "[ConvMixer] Epoch: 23 | Train Acc: 0.9810, Test Acc: 0.8459, Time: 21.3, lr: 0.031048\n"
          ]
        },
        {
          "output_type": "stream",
          "name": "stderr",
          "text": [
            "\r 50%|█████     | 25/50 [09:06<08:56, 21.46s/it]"
          ]
        },
        {
          "output_type": "stream",
          "name": "stdout",
          "text": [
            "[ConvMixer] Epoch: 24 | Train Acc: 0.9820, Test Acc: 0.8627, Time: 21.4, lr: 0.029341\n"
          ]
        },
        {
          "output_type": "stream",
          "name": "stderr",
          "text": [
            "\r 52%|█████▏    | 26/50 [09:29<08:40, 21.69s/it]"
          ]
        },
        {
          "output_type": "stream",
          "name": "stdout",
          "text": [
            "[ConvMixer] Epoch: 25 | Train Acc: 0.9840, Test Acc: 0.8352, Time: 22.2, lr: 0.027613\n"
          ]
        },
        {
          "output_type": "stream",
          "name": "stderr",
          "text": [
            "\r 54%|█████▍    | 27/50 [09:50<08:16, 21.57s/it]"
          ]
        },
        {
          "output_type": "stream",
          "name": "stdout",
          "text": [
            "[ConvMixer] Epoch: 26 | Train Acc: 0.9867, Test Acc: 0.8554, Time: 21.3, lr: 0.025872\n"
          ]
        },
        {
          "output_type": "stream",
          "name": "stderr",
          "text": [
            "\r 56%|█████▌    | 28/50 [10:12<07:59, 21.81s/it]"
          ]
        },
        {
          "output_type": "stream",
          "name": "stdout",
          "text": [
            "[ConvMixer] Epoch: 27 | Train Acc: 0.9871, Test Acc: 0.8603, Time: 22.4, lr: 0.024128\n"
          ]
        },
        {
          "output_type": "stream",
          "name": "stderr",
          "text": [
            "\r 58%|█████▊    | 29/50 [10:34<07:35, 21.71s/it]"
          ]
        },
        {
          "output_type": "stream",
          "name": "stdout",
          "text": [
            "[ConvMixer] Epoch: 28 | Train Acc: 0.9910, Test Acc: 0.8622, Time: 21.5, lr: 0.022387\n"
          ]
        },
        {
          "output_type": "stream",
          "name": "stderr",
          "text": [
            "\r 60%|██████    | 30/50 [10:55<07:11, 21.60s/it]"
          ]
        },
        {
          "output_type": "stream",
          "name": "stdout",
          "text": [
            "[ConvMixer] Epoch: 29 | Train Acc: 0.9945, Test Acc: 0.8739, Time: 21.3, lr: 0.020659\n"
          ]
        },
        {
          "output_type": "stream",
          "name": "stderr",
          "text": [
            "\r 62%|██████▏   | 31/50 [11:17<06:51, 21.65s/it]"
          ]
        },
        {
          "output_type": "stream",
          "name": "stdout",
          "text": [
            "[ConvMixer] Epoch: 30 | Train Acc: 0.9951, Test Acc: 0.8741, Time: 21.8, lr: 0.018952\n"
          ]
        },
        {
          "output_type": "stream",
          "name": "stderr",
          "text": [
            "\r 64%|██████▍   | 32/50 [11:38<06:28, 21.56s/it]"
          ]
        },
        {
          "output_type": "stream",
          "name": "stdout",
          "text": [
            "[ConvMixer] Epoch: 31 | Train Acc: 0.9962, Test Acc: 0.8800, Time: 21.3, lr: 0.017275\n"
          ]
        },
        {
          "output_type": "stream",
          "name": "stderr",
          "text": [
            "\r 66%|██████▌   | 33/50 [12:00<06:05, 21.50s/it]"
          ]
        },
        {
          "output_type": "stream",
          "name": "stdout",
          "text": [
            "[ConvMixer] Epoch: 32 | Train Acc: 0.9974, Test Acc: 0.8750, Time: 21.4, lr: 0.015635\n"
          ]
        },
        {
          "output_type": "stream",
          "name": "stderr",
          "text": [
            "\r 68%|██████▊   | 34/50 [12:21<05:44, 21.54s/it]"
          ]
        },
        {
          "output_type": "stream",
          "name": "stdout",
          "text": [
            "[ConvMixer] Epoch: 33 | Train Acc: 0.9988, Test Acc: 0.8847, Time: 21.6, lr: 0.014041\n"
          ]
        },
        {
          "output_type": "stream",
          "name": "stderr",
          "text": [
            "\r 70%|███████   | 35/50 [12:42<05:21, 21.43s/it]"
          ]
        },
        {
          "output_type": "stream",
          "name": "stdout",
          "text": [
            "[ConvMixer] Epoch: 34 | Train Acc: 0.9997, Test Acc: 0.8890, Time: 21.1, lr: 0.012500\n"
          ]
        },
        {
          "output_type": "stream",
          "name": "stderr",
          "text": [
            "\r 72%|███████▏  | 36/50 [13:04<05:00, 21.47s/it]"
          ]
        },
        {
          "output_type": "stream",
          "name": "stdout",
          "text": [
            "[ConvMixer] Epoch: 35 | Train Acc: 0.9999, Test Acc: 0.8908, Time: 21.6, lr: 0.011020\n"
          ]
        },
        {
          "output_type": "stream",
          "name": "stderr",
          "text": [
            "\r 74%|███████▍  | 37/50 [13:25<04:37, 21.36s/it]"
          ]
        },
        {
          "output_type": "stream",
          "name": "stdout",
          "text": [
            "[ConvMixer] Epoch: 36 | Train Acc: 1.0000, Test Acc: 0.8909, Time: 21.1, lr: 0.009608\n"
          ]
        },
        {
          "output_type": "stream",
          "name": "stderr",
          "text": [
            "\r 76%|███████▌  | 38/50 [13:47<04:17, 21.43s/it]"
          ]
        },
        {
          "output_type": "stream",
          "name": "stdout",
          "text": [
            "[ConvMixer] Epoch: 37 | Train Acc: 1.0000, Test Acc: 0.8916, Time: 21.6, lr: 0.008272\n"
          ]
        },
        {
          "output_type": "stream",
          "name": "stderr",
          "text": [
            "\r 78%|███████▊  | 39/50 [14:08<03:55, 21.44s/it]"
          ]
        },
        {
          "output_type": "stream",
          "name": "stdout",
          "text": [
            "[ConvMixer] Epoch: 38 | Train Acc: 1.0000, Test Acc: 0.8919, Time: 21.5, lr: 0.007017\n"
          ]
        },
        {
          "output_type": "stream",
          "name": "stderr",
          "text": [
            "\r 80%|████████  | 40/50 [14:29<03:33, 21.35s/it]"
          ]
        },
        {
          "output_type": "stream",
          "name": "stdout",
          "text": [
            "[ConvMixer] Epoch: 39 | Train Acc: 1.0000, Test Acc: 0.8912, Time: 21.2, lr: 0.005849\n"
          ]
        },
        {
          "output_type": "stream",
          "name": "stderr",
          "text": [
            "\r 82%|████████▏ | 41/50 [14:50<03:11, 21.27s/it]"
          ]
        },
        {
          "output_type": "stream",
          "name": "stdout",
          "text": [
            "[ConvMixer] Epoch: 40 | Train Acc: 1.0000, Test Acc: 0.8912, Time: 21.1, lr: 0.004775\n"
          ]
        },
        {
          "output_type": "stream",
          "name": "stderr",
          "text": [
            "\r 84%|████████▍ | 42/50 [15:12<02:50, 21.33s/it]"
          ]
        },
        {
          "output_type": "stream",
          "name": "stdout",
          "text": [
            "[ConvMixer] Epoch: 41 | Train Acc: 1.0000, Test Acc: 0.8916, Time: 21.5, lr: 0.003799\n"
          ]
        },
        {
          "output_type": "stream",
          "name": "stderr",
          "text": [
            "\r 86%|████████▌ | 43/50 [15:33<02:28, 21.22s/it]"
          ]
        },
        {
          "output_type": "stream",
          "name": "stdout",
          "text": [
            "[ConvMixer] Epoch: 42 | Train Acc: 1.0000, Test Acc: 0.8903, Time: 21.0, lr: 0.002926\n"
          ]
        },
        {
          "output_type": "stream",
          "name": "stderr",
          "text": [
            "\r 88%|████████▊ | 44/50 [15:54<02:07, 21.27s/it]"
          ]
        },
        {
          "output_type": "stream",
          "name": "stdout",
          "text": [
            "[ConvMixer] Epoch: 43 | Train Acc: 1.0000, Test Acc: 0.8906, Time: 21.4, lr: 0.002161\n"
          ]
        },
        {
          "output_type": "stream",
          "name": "stderr",
          "text": [
            "\r 90%|█████████ | 45/50 [16:15<01:46, 21.22s/it]"
          ]
        },
        {
          "output_type": "stream",
          "name": "stdout",
          "text": [
            "[ConvMixer] Epoch: 44 | Train Acc: 1.0000, Test Acc: 0.8920, Time: 21.1, lr: 0.001508\n"
          ]
        },
        {
          "output_type": "stream",
          "name": "stderr",
          "text": [
            "\r 92%|█████████▏| 46/50 [16:36<01:24, 21.17s/it]"
          ]
        },
        {
          "output_type": "stream",
          "name": "stdout",
          "text": [
            "[ConvMixer] Epoch: 45 | Train Acc: 1.0000, Test Acc: 0.8912, Time: 21.0, lr: 0.000968\n"
          ]
        },
        {
          "output_type": "stream",
          "name": "stderr",
          "text": [
            "\r 94%|█████████▍| 47/50 [16:58<01:03, 21.25s/it]"
          ]
        },
        {
          "output_type": "stream",
          "name": "stdout",
          "text": [
            "[ConvMixer] Epoch: 46 | Train Acc: 1.0000, Test Acc: 0.8912, Time: 21.4, lr: 0.000546\n"
          ]
        },
        {
          "output_type": "stream",
          "name": "stderr",
          "text": [
            "\r 96%|█████████▌| 48/50 [17:19<00:42, 21.20s/it]"
          ]
        },
        {
          "output_type": "stream",
          "name": "stdout",
          "text": [
            "[ConvMixer] Epoch: 47 | Train Acc: 1.0000, Test Acc: 0.8918, Time: 21.1, lr: 0.000243\n"
          ]
        },
        {
          "output_type": "stream",
          "name": "stderr",
          "text": [
            "\r 98%|█████████▊| 49/50 [17:40<00:21, 21.30s/it]"
          ]
        },
        {
          "output_type": "stream",
          "name": "stdout",
          "text": [
            "[ConvMixer] Epoch: 48 | Train Acc: 1.0000, Test Acc: 0.8915, Time: 21.5, lr: 0.000061\n"
          ]
        },
        {
          "output_type": "stream",
          "name": "stderr",
          "text": [
            "100%|██████████| 50/50 [18:02<00:00, 21.65s/it]"
          ]
        },
        {
          "output_type": "stream",
          "name": "stdout",
          "text": [
            "[ConvMixer] Epoch: 49 | Train Acc: 1.0000, Test Acc: 0.8916, Time: 21.5, lr: 0.000000\n"
          ]
        },
        {
          "output_type": "stream",
          "name": "stderr",
          "text": [
            "\n"
          ]
        }
      ]
    },
    {
      "cell_type": "code",
      "source": [
        "print(train_loss_list)\n",
        "print(test_loss_list)\n",
        "\n",
        "print(train_acc_list)\n",
        "print(test_acc_list)\n",
        "print(lr_list)\n",
        "print(time_list)"
      ],
      "metadata": {
        "colab": {
          "base_uri": "https://localhost:8080/"
        },
        "id": "bZ7pHRvp675x",
        "outputId": "e2fe18c3-7ada-4772-bf3b-3ebad828e287"
      },
      "execution_count": 31,
      "outputs": [
        {
          "output_type": "stream",
          "name": "stdout",
          "text": [
            "[67411.54543972015, 41291.794922828674, 31928.59408378601, 27980.15790271759, 24727.599211215973, 21831.32606124878, 18498.611515045166, 16537.333806991577, 13748.003022193909, 12539.141043663025, 11789.739530801773, 10850.165422201157, 8837.569960594177, 8622.081526517868, 7674.463274002075, 6622.518926143646, 5980.95604634285, 5916.272006034851, 4948.74669778347, 4531.05705165863, 4335.33670592308, 3544.116066813469, 3474.974786043167, 2641.36168384552, 2629.472118973732, 2317.0209290981293, 1901.9006740748882, 1834.3460955023766, 1254.7119853198528, 823.5445666909218, 744.8662370145321, 553.3220774829388, 371.12670363485813, 191.88392920792103, 87.42677080631256, 24.93369627010543, 8.742764233145863, 5.97196388291195, 4.401399491354823, 4.361053824424744, 4.0416383650153875, 3.827617525588721, 3.580918669933453, 3.760027169599198, 3.6183662412222475, 3.3025923973182216, 3.1879099616780877, 3.3175555465277284, 3.0810297722928226, 3.0913066858192906]\n",
            "[22857.806610107422, 10229.752433776855, 10542.148920059204, 9575.748579025269, 7715.788446426392, 6892.740160942078, 6325.046274185181, 6793.534752845764, 7015.587891578674, 8768.96983718872, 7297.827016830444, 6166.625894546509, 6849.371603012085, 7045.138666152954, 7432.951788902283, 6892.642747879028, 8602.104452133179, 6788.75769329071, 8469.637829780579, 8789.099420547485, 5816.00790309906, 6741.819737434387, 7079.253548622131, 7692.380394935608, 6530.850640296936, 8983.351337432861, 7679.639289855957, 6853.075090408325, 7741.899771690369, 7442.425455093384, 7119.404797554016, 7111.5052671432495, 7797.97579574585, 7356.428779602051, 7096.526812553406, 7002.958088874817, 6987.349049568176, 6969.8738260269165, 6981.93005657196, 6994.469025611877, 7001.175397872925, 6926.361180305481, 6966.09610748291, 6924.51141166687, 6991.11141872406, 6955.69518661499, 6948.72975730896, 6995.9672775268555, 6991.264366149902, 6966.971128463745]\n",
            "[0.50746, 0.70934, 0.77936, 0.80696, 0.82924, 0.84766, 0.87374, 0.88522, 0.90598, 0.91038, 0.91692, 0.92392, 0.93828, 0.93912, 0.946, 0.95354, 0.95746, 0.95872, 0.96468, 0.96806, 0.96978, 0.9749, 0.97622, 0.98098, 0.98204, 0.98398, 0.98672, 0.98708, 0.99098, 0.99446, 0.99514, 0.99618, 0.99742, 0.99882, 0.99968, 0.99992, 1.0, 1.0, 1.0, 1.0, 1.0, 1.0, 1.0, 1.0, 1.0, 1.0, 1.0, 1.0, 1.0, 1.0]\n",
            "[0.4872, 0.6811, 0.6947, 0.6969, 0.7545, 0.7819, 0.7967, 0.787, 0.7878, 0.7733, 0.7994, 0.8181, 0.8098, 0.7993, 0.8111, 0.8257, 0.8063, 0.8255, 0.8135, 0.8187, 0.8525, 0.8455, 0.8496, 0.8459, 0.8627, 0.8352, 0.8554, 0.8603, 0.8622, 0.8739, 0.8741, 0.88, 0.875, 0.8847, 0.889, 0.8908, 0.8909, 0.8916, 0.8919, 0.8912, 0.8912, 0.8916, 0.8903, 0.8906, 0.892, 0.8912, 0.8912, 0.8918, 0.8915, 0.8916]\n",
            "[0.01, 0.02, 0.030000000000000002, 0.04, 0.05, 0.04993910125649561, 0.04975670171853926, 0.049453690018345146, 0.04903154239845797, 0.048492315519647715, 0.04783863644106502, 0.047073689821473176, 0.04620120240391065, 0.04522542485937369, 0.04415111107797445, 0.04298349500846628, 0.04172826515897146, 0.040391536883141455, 0.03897982258676867, 0.037500000000000006, 0.03595927866972694, 0.0343651648353978, 0.032725424859373686, 0.03104804738999169, 0.029341204441673263, 0.027613211581691346, 0.02587248741756253, 0.024127512582437477, 0.022386788418308663, 0.020658795558326743, 0.018951952610008312, 0.017274575140626323, 0.0156348351646022, 0.014040721330273063, 0.012500000000000006, 0.011020177413231334, 0.009608463116858543, 0.008271734841028545, 0.00701650499153372, 0.005848888922025553, 0.004774575140626317, 0.0037987975960893567, 0.0029263101785268254, 0.0021613635589349755, 0.0015076844803522923, 0.0009684576015420277, 0.0005463099816548606, 0.00024329828146074097, 6.089874350439506e-05, 0.0]\n",
            "[27.867984533309937, 20.886646509170532, 22.57070565223694, 21.171000242233276, 21.665693044662476, 21.391537189483643, 21.39570188522339, 22.055199146270752, 21.52738904953003, 22.13006615638733, 21.603837966918945, 21.44574809074402, 21.981616020202637, 21.549363613128662, 22.241402864456177, 21.953629970550537, 21.54385018348694, 21.78494381904602, 21.317224264144897, 21.324348211288452, 21.797988653182983, 21.331786632537842, 21.683315992355347, 21.337443113327026, 21.35700535774231, 22.206138849258423, 21.297672986984253, 22.36845350265503, 21.458940505981445, 21.334984064102173, 21.782658100128174, 21.342665195465088, 21.35995078086853, 21.644551038742065, 21.148823738098145, 21.577823400497437, 21.1099112033844, 21.567616939544678, 21.45353651046753, 21.16230010986328, 21.069995164871216, 21.466853618621826, 20.959595680236816, 21.37308645248413, 21.111048221588135, 21.045079469680786, 21.438389539718628, 21.077247858047485, 21.51878261566162, 21.45710301399231]\n"
          ]
        }
      ]
    },
    {
      "cell_type": "code",
      "source": [
        "plt.title(\"Loss\")\n",
        "plt.xlabel(\"epoch\")\n",
        "plt.ylabel(\"loss\")\n",
        "plt.plot(train_loss_list, '-', label = \"train\")\n",
        "plt.plot(test_loss_list, '--', label = \"test\")\n",
        "plt.legend()\n",
        "plt.savefig('loss.png', dpi=300)"
      ],
      "metadata": {
        "colab": {
          "base_uri": "https://localhost:8080/",
          "height": 295
        },
        "id": "W0dVWQ94fwGf",
        "outputId": "7e253b9a-9760-458b-d388-a2a31177271a"
      },
      "execution_count": 32,
      "outputs": [
        {
          "output_type": "display_data",
          "data": {
            "text/plain": [
              "<Figure size 432x288 with 1 Axes>"
            ],
            "image/png": "[encoded data removed]"
          },
          "metadata": {
            "needs_background": "light"
          }
        }
      ]
    },
    {
      "cell_type": "code",
      "source": [
        "plt.title(\"Accuracy\")\n",
        "plt.xlabel(\"epcoh\")\n",
        "plt.ylabel(\"acc\")\n",
        "plt.plot(train_acc_list, \"-\", label = \"train\")\n",
        "plt.plot(test_acc_list, \"--\", label = \"test\")\n",
        "plt.legend()\n",
        "plt.savefig('accuracy.png', dpi=300)"
      ],
      "metadata": {
        "colab": {
          "base_uri": "https://localhost:8080/",
          "height": 295
        },
        "id": "CWd_aX7WY1o2",
        "outputId": "1d3c7990-94d5-49e6-a0f3-e1a01d7d0f5a"
      },
      "execution_count": 33,
      "outputs": [
        {
          "output_type": "display_data",
          "data": {
            "text/plain": [
              "<Figure size 432x288 with 1 Axes>"
            ],
            "image/png": "[encoded data removed]"
          },
          "metadata": {
            "needs_background": "light"
          }
        }
      ]
    },
    {
      "cell_type": "code",
      "source": [
        "plt.title(\"Loss\")\n",
        "plt.xlabel(\"epoch\")\n",
        "plt.ylabel(\"loss\")\n",
        "plt.plot(test_loss_list, '--', label = \"test\")\n",
        "plt.legend()\n",
        "plt.savefig('loss_test.png', dpi=300)"
      ],
      "metadata": {
        "colab": {
          "base_uri": "https://localhost:8080/",
          "height": 295
        },
        "id": "6RvuXFlZsn1L",
        "outputId": "1c1656c2-fbef-490f-9b1b-216df071a4ff"
      },
      "execution_count": 35,
      "outputs": [
        {
          "output_type": "display_data",
          "data": {
            "text/plain": [
              "<Figure size 432x288 with 1 Axes>"
            ],
            "image/png": "[encoded data removed]"
          },
          "metadata": {
            "needs_background": "light"
          }
        }
      ]
    },
    {
      "cell_type": "code",
      "source": [
        "plt.title(\"Learning rate\")\n",
        "plt.xlabel(\"epcoh\")\n",
        "plt.ylabel(\"lr\")\n",
        "plt.plot(lr_list)\n",
        "plt.savefig('learningrate.png', dpi=300)"
      ],
      "metadata": {
        "colab": {
          "base_uri": "https://localhost:8080/",
          "height": 295
        },
        "id": "Rzwt8D01hB7M",
        "outputId": "a0b577ee-4298-4193-97d9-6c9e8221a476"
      },
      "execution_count": 34,
      "outputs": [
        {
          "output_type": "display_data",
          "data": {
            "text/plain": [
              "<Figure size 432x288 with 1 Axes>"
            ],
            "image/png": "[encoded data removed]"
          },
          "metadata": {
            "needs_background": "light"
          }
        }
      ]
    },
    {
      "cell_type": "code",
      "source": [
        "sum(time_list) / len(time_list)"
      ],
      "metadata": {
        "colab": {
          "base_uri": "https://localhost:8080/"
        },
        "id": "usLL_l6shHr0",
        "outputId": "021aa390-d902-492e-913b-57952cd941e6"
      },
      "execution_count": null,
      "outputs": [
        {
          "output_type": "execute_result",
          "data": {
            "text/plain": [
              "21.105367965698242"
            ]
          },
          "metadata": {},
          "execution_count": 68
        }
      ]
    },
    {
      "cell_type": "code",
      "source": [],
      "metadata": {
        "colab": {
          "base_uri": "https://localhost:8080/"
        },
        "id": "oiliq_uhgj8H",
        "outputId": "7ec5ac92-6b9c-4902-de88-7ffc1dc7dc55"
      },
      "execution_count": null,
      "outputs": [
        {
          "output_type": "execute_result",
          "data": {
            "text/plain": [
              "(50000, 10000)"
            ]
          },
          "metadata": {},
          "execution_count": 30
        }
      ]
    }
  ]
}